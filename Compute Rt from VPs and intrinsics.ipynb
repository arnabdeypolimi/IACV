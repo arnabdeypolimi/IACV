{
 "cells": [
  {
   "cell_type": "code",
   "execution_count": 68,
   "metadata": {},
   "outputs": [],
   "source": [
    "import numpy as np"
   ]
  },
  {
   "cell_type": "markdown",
   "metadata": {},
   "source": [
    "## Deriving P with method 4.1 from the paper\n",
    "\n",
    "Consider a coordinate system centered in the center of the table, with $x$ and $y$ directions parallel to its edges. Once we have $K$, $R$ can be computed by considering that the rays through the projections of the vanishing points must be perpendicular.\n",
    "\n",
    "Let $\\mathbf u$ and $\\mathbf v$ be the projections vanishing points on the plane $z=k$ in Euclidean coordinates (these can be obtained by inverting $K$ on the pixel coordinates). We know $\\mathbf u \\cdot \\mathbf v = 0$, so solving for $k$ we get $k^2 = -x_u x_v - y_u y_v$. Immediately we get $\\mathbf x' = \\frac{\\mathbf u}{||\\mathbf u||}$ and $\\mathbf y' = \\frac {\\mathbf v} {||\\mathbf v||}$, and of course $\\mathbf z' = \\mathbf x' \\times \\mathbf y'$. Lastly,\n",
    "\n",
    "$$\n",
    "R = \\begin{pmatrix} \n",
    "\\\\\n",
    "\\mathbf x' & \\mathbf y' & \\mathbf z' \\\\\n",
    "\\\\\n",
    "\\end{pmatrix}\n",
    "$$."
   ]
  },
  {
   "cell_type": "markdown",
   "metadata": {},
   "source": [
    "Once the intrinsics $\\alpha$, $u_0$, $v_0$ and $f$ are known, the unit vector $\\hat{\\mathbf q}_a$ corresponding to the direction of the ray projected on a generic point $A$ on the picture can be computed. Let $u$ and $v$ be the (normalized) pixel coordinates of $A$ on the picture. By equation (2) on the paper, its projection on the image plane will be the vector $\\mathbf q_a = \\begin{pmatrix}\\alpha_u (u-u_0) & k & \\alpha_v(v_0 - v)\\end{pmatrix}$. $\\alpha_u$, $\\alpha_v$ and $k$ are not known, but by dividing the vector by $\\alpha_v$ a new vector on the same ray is obtained, whose coordinates are:\n",
    "\n",
    "$$\n",
    "\\frac{\\mathbf q_a}{\\alpha_v} =\n",
    "\\begin{pmatrix}\\frac{\\alpha_u}{\\alpha_v}(u-u_0) & \\frac{k}{\\alpha_v} & (v_0 - v)\\end{pmatrix} =\n",
    "\\begin{pmatrix}\\frac{1}{\\alpha}(u-u_0) & f & (v_0 - v)\\end{pmatrix}\n",
    "$$\n",
    "\n",
    "The unit vector $\\hat{\\mathbf q}_a$ corresponding to the ray can be obtained simply by normalizing the latter."
   ]
  },
  {
   "cell_type": "code",
   "execution_count": 80,
   "metadata": {},
   "outputs": [],
   "source": [
    "# All arguments are 3D vectors\n",
    "def corner_lambda_h_coeff(qm_norm, qn_norm, qh_norm, qa_norm):\n",
    "    return np.dot(np.cross(qn_norm, qm_norm), qh_norm)/np.dot(np.cross(qn_norm, qm_norm), qa_norm) * qa_norm\n",
    "\n",
    "# Normalized vector in camera coordinates corresponding to point in pixel coordinates\n",
    "def qnorm(u_px, v_px, u_0, v_0, alpha, f):\n",
    "    q = np.array([(u_px - u_0)/alpha, f, v_0 - v_px])\n",
    "    return q/np.linalg.norm(q)"
   ]
  },
  {
   "cell_type": "markdown",
   "metadata": {},
   "source": [
    "$\\lambda_h$ can be derived imposing the area of the table surface as a constraint:\n",
    "\n",
    "$$\n",
    "AB \\cdot AC = A \\\\\n",
    "A = |\\mathbf p_B - \\mathbf p_A|\\cdot|\\mathbf p_C - \\mathbf p_A| \\\\\n",
    "A = |\\lambda_h \\mathbf c_B - \\lambda_h \\mathbf c_A|\\cdot|\\lambda_h \\mathbf c_C - \\lambda_h \\mathbf c_A| \\\\\n",
    "\\lambda_h = \\sqrt \\frac{A}{|\\mathbf c_B - \\mathbf c_A|\\cdot|\\mathbf c_C - \\mathbf c_A|}\n",
    "$$\n",
    "\n",
    "$\\mathbf c_A$ is the vector obtaining in equation (15) of the paper by decomposing $\\mathbf t_{wc}$ as in equation (13):\n",
    "\n",
    "$$\n",
    "\\mathbf p_A =\n",
    "\\frac{\\hat{\\mathbf q}_n \\times \\hat{\\mathbf q}_m \\cdot \\mathbf t_{wc}}{\\hat{\\mathbf q}_n \\times \\hat{\\mathbf q}_m \\cdot \\hat{\\mathbf q}_a} \\hat{\\mathbf q}_a =\n",
    "\\frac{\\hat{\\mathbf q}_n \\times \\hat{\\mathbf q}_m \\cdot \\lambda_h \\hat{\\mathbf q}_h}{\\hat{\\mathbf q}_n \\times \\hat{\\mathbf q}_m \\cdot \\hat{\\mathbf q}_a} \\hat{\\mathbf q}_a =\n",
    "\\lambda_h \\frac{\\hat{\\mathbf q}_n \\times \\hat{\\mathbf q}_m \\cdot \\hat{\\mathbf q}_h}{\\hat{\\mathbf q}_n \\times \\hat{\\mathbf q}_m \\cdot \\hat{\\mathbf q}_a} \\hat{\\mathbf q}_a\n",
    "=: \\lambda_h \\mathbf c_A\n",
    "$$"
   ]
  },
  {
   "cell_type": "code",
   "execution_count": 81,
   "metadata": {},
   "outputs": [],
   "source": [
    "def hom2eucl(v):\n",
    "        assert(v[-1] != 0), f\"Point at infinity {v} does not have an Euclidean correspondent!\"\n",
    "        return v[:-1]/v[-1]"
   ]
  },
  {
   "cell_type": "code",
   "execution_count": 82,
   "metadata": {},
   "outputs": [],
   "source": [
    "# Vertex A of the table must be consecutive to both vertices B and C;\n",
    "# H is the center of the table.\n",
    "# vpx, vpy, uv* must be given in Euclidean pixel coordinates.\n",
    "def find_projection_matrix2(uv_princ, alpha, f, vpx, vpy, uva, uvb, uvc, uvh, table_area):\n",
    "    def normalize(v):\n",
    "        return v/np.linalg.norm(v)\n",
    "    qm_norm = qnorm(*vpx, *uv_princ, alpha, f)\n",
    "    qn_norm = qnorm(*vpy, *uv_princ, alpha, f)\n",
    "    qz_norm = np.cross(qm_norm, qn_norm)\n",
    "    R = np.column_stack((qm_norm, qn_norm, qz_norm))\n",
    "    \n",
    "    qh_norm = qnorm(*uvh, *uv_princ, alpha, f)\n",
    "    qa_norm = qnorm(*uva, *uv_princ, alpha, f)\n",
    "    qb_norm = qnorm(*uvb, *uv_princ, alpha, f)\n",
    "    qc_norm = qnorm(*uvc, *uv_princ, alpha, f)\n",
    "    \n",
    "    ca = corner_lambda_h_coeff(qm_norm, qn_norm, qh_norm, qa_norm)\n",
    "    cb = corner_lambda_h_coeff(qm_norm, qn_norm, qh_norm, qb_norm)\n",
    "    cc = corner_lambda_h_coeff(qm_norm, qn_norm, qh_norm, qc_norm)\n",
    "    \n",
    "    lambda_h = np.sqrt(table_area/(np.linalg.norm(cb - ca)*np.linalg.norm(cc - ca)))\n",
    "    t = lambda_h * qh_norm\n",
    "    \n",
    "    Rt = np.column_stack((R, t))\n",
    "    return Rt, ca*lambda_h, cb*lambda_h, cc*lambda_h"
   ]
  },
  {
   "cell_type": "code",
   "execution_count": 83,
   "metadata": {},
   "outputs": [],
   "source": [
    "def norm_coordinates(v, normf):\n",
    "    res = np.copy(v)\n",
    "    res[0:2] = res[0:2]/normf\n",
    "    return res\n",
    "\n",
    "uv_princ, alpha, f = np.array([1.59572975, 1.15771016]), 1.0, 3.1290276507245047\n",
    "\n",
    "with open(\"checkers_fullsize/outs.csv\") as inf:\n",
    "    inrows = np.array([l.split(\",\") for l in inf.read().splitlines()]).astype(\"float\")\n",
    "vpxs, vpys, As, Bs, Cs, centers = inrows.reshape((12, -1, 3)).swapaxes(0,1)\n",
    "normf = 1000\n",
    "img_idx = 2\n",
    "vpx = hom2eucl(norm_coordinates(vpxs[img_idx], normf))\n",
    "vpy = hom2eucl(norm_coordinates(vpys[img_idx], normf))\n",
    "uva = hom2eucl(norm_coordinates(As[img_idx], normf))\n",
    "uvb = hom2eucl(norm_coordinates(Bs[img_idx], normf))\n",
    "uvc = hom2eucl(norm_coordinates(Cs[img_idx], normf))\n",
    "uvh = hom2eucl(norm_coordinates(centers[img_idx], normf))\n",
    "table_area = 0.06237 # square meters\n",
    "Rt, pa, pb, pc = find_projection_matrix2(uv_princ, alpha, f, vpx, vpy, uva, uvb, uvc, uvh, table_area)"
   ]
  },
  {
   "cell_type": "code",
   "execution_count": 76,
   "metadata": {},
   "outputs": [
    {
     "data": {
      "text/plain": [
       "(0.21187011416780482,\n",
       " 0.29437846977607185,\n",
       " 89.97474854455092,\n",
       " 89.70860896479203)"
      ]
     },
     "execution_count": 76,
     "metadata": {},
     "output_type": "execute_result"
    }
   ],
   "source": [
    "def angle_between(v1, v2):\n",
    "    return np.rad2deg(np.arccos(np.dot(v1, v2)/np.linalg.norm(v1)*np.linalg.norm(v2)))\n",
    "\n",
    "db, dc = pa-pb, pa-pc\n",
    "np.linalg.norm(db), np.linalg.norm(dc), angle_between(db, dc), angle_between(np.transpose(Rt[:,1]), np.transpose(Rt[:,0]))"
   ]
  },
  {
   "cell_type": "code",
   "execution_count": 77,
   "metadata": {},
   "outputs": [
    {
     "data": {
      "text/plain": [
       "array([ 0.02331243, -0.88294455,  0.46887055,  0.4697845 ])"
      ]
     },
     "execution_count": 77,
     "metadata": {},
     "output_type": "execute_result"
    }
   ],
   "source": [
    "table_plane = np.append(Rt[:,2], -np.dot(Rt[:,2], Rt[:,3]))\n",
    "table_plane"
   ]
  },
  {
   "cell_type": "code",
   "execution_count": 85,
   "metadata": {},
   "outputs": [
    {
     "data": {
      "text/plain": [
       "55.090187916693004"
      ]
     },
     "execution_count": 85,
     "metadata": {},
     "output_type": "execute_result"
    }
   ],
   "source": [
    "width_px = 3264\n",
    "normf = 1000\n",
    "fov_angle = np.rad2deg(2*np.arctan(width_px/(2*f*normf)))\n",
    "fov_angle"
   ]
  }
 ],
 "metadata": {
  "kernelspec": {
   "display_name": "Python 3",
   "language": "python",
   "name": "python3"
  },
  "language_info": {
   "codemirror_mode": {
    "name": "ipython",
    "version": 3
   },
   "file_extension": ".py",
   "mimetype": "text/x-python",
   "name": "python",
   "nbconvert_exporter": "python",
   "pygments_lexer": "ipython3",
   "version": "3.7.1"
  }
 },
 "nbformat": 4,
 "nbformat_minor": 2
}
