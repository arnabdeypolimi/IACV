{
 "cells": [
  {
   "cell_type": "code",
   "execution_count": 5,
   "metadata": {},
   "outputs": [],
   "source": [
    "import numpy as np"
   ]
  },
  {
   "cell_type": "markdown",
   "metadata": {},
   "source": [
    "## Deriving P with method 4.1 from the paper\n",
    "\n",
    "Consider a coordinate system centered in the center of the table, with $x$ and $y$ directions parallel to its edges. Once we have $K$, $R$ can be computed by considering that the rays through the projections of the vanishing points must be perpendicular.\n",
    "\n",
    "Let $\\mathbf u$ and $\\mathbf v$ be the projections vanishing points on the plane $z=k$ in Euclidean coordinates (these can be obtained by inverting $K$ on the pixel coordinates). We know $\\mathbf u \\cdot \\mathbf v = 0$, so solving for $k$ we get $k^2 = -x_u x_v - y_u y_v$. Immediately we get $\\mathbf x' = \\frac{\\mathbf u}{||\\mathbf u||}$ and $\\mathbf y' = \\frac {\\mathbf v} {||\\mathbf v||}$, and of course $\\mathbf z' = \\mathbf x' \\times \\mathbf y'$. Lastly,\n",
    "\n",
    "$$\n",
    "R = \\begin{pmatrix} \n",
    "\\\\\n",
    "\\mathbf x' & \\mathbf y' & \\mathbf z' \\\\\n",
    "\\\\\n",
    "\\end{pmatrix}\n",
    "$$."
   ]
  },
  {
   "cell_type": "markdown",
   "metadata": {},
   "source": [
    "Once the intrinsics $\\alpha$, $u_0$, $v_0$ and $f$ are known, the unit vector $\\hat{\\mathbf q}_a$ corresponding to the direction of the ray projected on a generic point $A$ on the picture can be computed. Let $u$ and $v$ be the (normalized) pixel coordinates of $A$ on the picture. By equation (2) on the paper, its projection on the image plane will be the vector $\\mathbf q_a = \\begin{pmatrix}\\alpha_u (u-u_0) & k & \\alpha_v(v_0 - v)\\end{pmatrix}$. $\\alpha_u$, $\\alpha_v$ and $k$ are not known, but by dividing the vector by $\\alpha_v$ a new vector on the same ray is obtained, whose coordinates are:\n",
    "\n",
    "$$\n",
    "\\frac{\\mathbf q_a}{\\alpha_v} =\n",
    "\\begin{pmatrix}\\frac{\\alpha_u}{\\alpha_v}(u-u_0) & \\frac{k}{\\alpha_v} & (v_0 - v)\\end{pmatrix} =\n",
    "\\begin{pmatrix}\\frac{1}{\\alpha}(u-u_0) & f & (v_0 - v)\\end{pmatrix}\n",
    "$$\n",
    "\n",
    "The unit vector $\\hat{\\mathbf q}_a$ corresponding to the ray can be obtained simply by normalizing the latter."
   ]
  },
  {
   "cell_type": "code",
   "execution_count": 6,
   "metadata": {},
   "outputs": [],
   "source": [
    "# All arguments are 3D vectors\n",
    "def corner_lambda_h_coeff(qm_norm, qn_norm, qh_norm, qa_norm):\n",
    "    return np.dot(np.cross(qn_norm, qm_norm), qh_norm)/np.dot(np.cross(qn_norm, qm_norm), qa_norm) * qa_norm\n",
    "\n",
    "# Normalized vector in camera coordinates corresponding to point in pixel coordinates\n",
    "def qnorm(u_px, v_px, u_0, v_0, alpha, f):\n",
    "    q = np.array([(u_px - u_0)/alpha, v_px - v_0, f])\n",
    "    return q/np.linalg.norm(q)"
   ]
  },
  {
   "cell_type": "markdown",
   "metadata": {},
   "source": [
    "$\\lambda_h$ can be derived imposing the area of the table surface as a constraint:\n",
    "\n",
    "$$\n",
    "AB \\cdot AC = A \\\\\n",
    "A = |\\mathbf p_B - \\mathbf p_A|\\cdot|\\mathbf p_C - \\mathbf p_A| \\\\\n",
    "A = |\\lambda_h \\mathbf c_B - \\lambda_h \\mathbf c_A|\\cdot|\\lambda_h \\mathbf c_C - \\lambda_h \\mathbf c_A| \\\\\n",
    "\\lambda_h = \\sqrt \\frac{A}{|\\mathbf c_B - \\mathbf c_A|\\cdot|\\mathbf c_C - \\mathbf c_A|}\n",
    "$$\n",
    "\n",
    "$\\mathbf c_A$ is the vector obtained in equation (15) of the paper by decomposing $\\mathbf t_{wc}$ as in equation (13):\n",
    "\n",
    "$$\n",
    "\\mathbf p_A =\n",
    "\\frac{\\hat{\\mathbf q}_n \\times \\hat{\\mathbf q}_m \\cdot \\mathbf t_{wc}}{\\hat{\\mathbf q}_n \\times \\hat{\\mathbf q}_m \\cdot \\hat{\\mathbf q}_a} \\hat{\\mathbf q}_a =\n",
    "\\frac{\\hat{\\mathbf q}_n \\times \\hat{\\mathbf q}_m \\cdot \\lambda_h \\hat{\\mathbf q}_h}{\\hat{\\mathbf q}_n \\times \\hat{\\mathbf q}_m \\cdot \\hat{\\mathbf q}_a} \\hat{\\mathbf q}_a =\n",
    "\\lambda_h \\frac{\\hat{\\mathbf q}_n \\times \\hat{\\mathbf q}_m \\cdot \\hat{\\mathbf q}_h}{\\hat{\\mathbf q}_n \\times \\hat{\\mathbf q}_m \\cdot \\hat{\\mathbf q}_a} \\hat{\\mathbf q}_a\n",
    "=: \\lambda_h \\mathbf c_A\n",
    "$$"
   ]
  },
  {
   "cell_type": "code",
   "execution_count": 7,
   "metadata": {},
   "outputs": [],
   "source": [
    "def hom2eucl(v):\n",
    "        assert(v[-1] != 0), f\"Point at infinity {v} does not have an Euclidean correspondent!\"\n",
    "        return v[:-1]/v[-1]"
   ]
  },
  {
   "cell_type": "code",
   "execution_count": 8,
   "metadata": {},
   "outputs": [],
   "source": [
    "# Vertex A of the table must be consecutive to both vertices B and C;\n",
    "# H is the center of the table.\n",
    "# vpx, vpy, uv* must be given in Euclidean pixel coordinates.\n",
    "def find_projection_matrix2(uv_princ, alpha, f, vpx, vpy, uva, uvb, uvc, uvh, table_area):\n",
    "    def normalize(v):\n",
    "        return v/np.linalg.norm(v)\n",
    "    qm_norm = qnorm(*vpx, *uv_princ, alpha, f)\n",
    "    qn_norm = qnorm(*vpy, *uv_princ, alpha, f)\n",
    "    qz_norm = np.cross(qm_norm, qn_norm)\n",
    "    R = np.column_stack((qm_norm, qn_norm, qz_norm))\n",
    "    \n",
    "    qh_norm = qnorm(*uvh, *uv_princ, alpha, f)\n",
    "    qa_norm = qnorm(*uva, *uv_princ, alpha, f)\n",
    "    qb_norm = qnorm(*uvb, *uv_princ, alpha, f)\n",
    "    qc_norm = qnorm(*uvc, *uv_princ, alpha, f)\n",
    "    \n",
    "    ca = corner_lambda_h_coeff(qm_norm, qn_norm, qh_norm, qa_norm)\n",
    "    cb = corner_lambda_h_coeff(qm_norm, qn_norm, qh_norm, qb_norm)\n",
    "    cc = corner_lambda_h_coeff(qm_norm, qn_norm, qh_norm, qc_norm)\n",
    "    \n",
    "    lambda_h = np.sqrt(table_area/(np.linalg.norm(cb - ca)*np.linalg.norm(cc - ca)))\n",
    "    t = lambda_h * qh_norm\n",
    "    \n",
    "    Rt = np.column_stack((R, t))\n",
    "    return Rt, ca*lambda_h, cb*lambda_h, cc*lambda_h"
   ]
  },
  {
   "cell_type": "code",
   "execution_count": 123,
   "metadata": {},
   "outputs": [],
   "source": [
    "def norm_coordinates(v, normf):\n",
    "    res = np.copy(v) \n",
    "    res[0:2] = res[0:2]/normf\n",
    "    return res\n",
    "\n",
    "uv_princ, f = (np.array([1.91780241, 2.60489289]), 1.9487965719680382)\n",
    "alpha = 1\n",
    "\n",
    "with open(\"rendered_markers/detected/outs.csv\") as inf:\n",
    "    inrows_name = [l.split(\",\") for l in inf.read().splitlines()]\n",
    "    picnames = [row[-1] for row in inrows_name]\n",
    "    inrows = np.array([row[:-1] for row in inrows_name]).astype(\"float\")\n",
    "vpxs, vpys, As, Bs, Cs, centers = inrows.reshape((12, -1, 3)).swapaxes(0,1)\n",
    "normf = 1000\n",
    "picname = \"IMG_20190604_210132054.jpg\"\n",
    "img_idx = picnames.index(picname)\n",
    "vpx = hom2eucl(norm_coordinates(vpxs[img_idx], normf))\n",
    "vpy = hom2eucl(norm_coordinates(vpys[img_idx], normf))\n",
    "uva = hom2eucl(norm_coordinates(As[img_idx], normf))\n",
    "uvb = hom2eucl(norm_coordinates(Bs[img_idx], normf))\n",
    "uvc = hom2eucl(norm_coordinates(Cs[img_idx], normf))\n",
    "uvh = hom2eucl(norm_coordinates(centers[img_idx], normf))\n",
    "table_area = 0.06237 # square meters\n",
    "Rt, pa, pb, pc = find_projection_matrix2(uv_princ, alpha, f, vpx, vpy, uva, uvb, uvc, uvh, table_area)"
   ]
  },
  {
   "cell_type": "code",
   "execution_count": 124,
   "metadata": {},
   "outputs": [
    {
     "data": {
      "text/plain": [
       "(0.20338457537888416, 0.30666042340630423, 90.0435978540659, 90.46361165842058)"
      ]
     },
     "execution_count": 124,
     "metadata": {},
     "output_type": "execute_result"
    }
   ],
   "source": [
    "def angle_between(v1, v2):\n",
    "    return np.rad2deg(np.arccos(np.dot(v1, v2)/np.linalg.norm(v1)*np.linalg.norm(v2)))\n",
    "\n",
    "db, dc = pa-pb, pa-pc\n",
    "np.linalg.norm(db), np.linalg.norm(dc), angle_between(db, dc), angle_between(np.transpose(Rt[:,1]), np.transpose(Rt[:,0]))"
   ]
  },
  {
   "cell_type": "code",
   "execution_count": 125,
   "metadata": {},
   "outputs": [
    {
     "data": {
      "text/plain": [
       "array([ 0.00091397,  0.4570229 ,  0.88941765, -0.11783063])"
      ]
     },
     "execution_count": 125,
     "metadata": {},
     "output_type": "execute_result"
    }
   ],
   "source": [
    "table_plane = np.append(Rt[:,2], -np.dot(Rt[:,2], Rt[:,3]))\n",
    "table_plane"
   ]
  },
  {
   "cell_type": "code",
   "execution_count": 126,
   "metadata": {},
   "outputs": [
    {
     "data": {
      "text/plain": [
       "91.94214459035763"
      ]
     },
     "execution_count": 126,
     "metadata": {},
     "output_type": "execute_result"
    }
   ],
   "source": [
    "width_px = 4032\n",
    "normf = 1000\n",
    "fov_angle = np.rad2deg(2*np.arctan(width_px/(2*f*normf)))\n",
    "fov_angle"
   ]
  },
  {
   "cell_type": "code",
   "execution_count": 127,
   "metadata": {},
   "outputs": [
    {
     "data": {
      "text/plain": [
       "array([3.65427842, 2.66348481])"
      ]
     },
     "execution_count": 127,
     "metadata": {},
     "output_type": "execute_result"
    }
   ],
   "source": [
    "uva"
   ]
  },
  {
   "cell_type": "code",
   "execution_count": 128,
   "metadata": {},
   "outputs": [
    {
     "data": {
      "text/plain": [
       "3.6542784242140653"
      ]
     },
     "execution_count": 128,
     "metadata": {},
     "output_type": "execute_result"
    }
   ],
   "source": [
    "Rtc = np.row_stack((Rt, [0, 0, 0, 1]))\n",
    "acc = pa\n",
    "acc[0]/acc[2]*f+uv_princ[0]"
   ]
  },
  {
   "cell_type": "code",
   "execution_count": 129,
   "metadata": {},
   "outputs": [
    {
     "data": {
      "text/plain": [
       "array([[3.12243512, 1.05491524],\n",
       "       [2.49247963, 1.15029233],\n",
       "       [1.87461135, 1.23708515]])"
      ]
     },
     "execution_count": 129,
     "metadata": {},
     "output_type": "execute_result"
    }
   ],
   "source": [
    "markers = np.array([(3122.4351233671982, 1054.9152394775035),\n",
    "(2492.4796257168728, 1150.292333232719),\n",
    "(1874.6113537117903, 1237.0851528384283)])\n",
    "markers = markers/normf\n",
    "markers"
   ]
  },
  {
   "cell_type": "code",
   "execution_count": 130,
   "metadata": {},
   "outputs": [],
   "source": [
    "q_i = [qnorm(*uvm, *uv_princ, 1, f) for uvm in markers]"
   ]
  },
  {
   "cell_type": "code",
   "execution_count": 131,
   "metadata": {},
   "outputs": [],
   "source": [
    "q1, q2, q3 = q_i"
   ]
  },
  {
   "cell_type": "code",
   "execution_count": 132,
   "metadata": {},
   "outputs": [],
   "source": [
    "k12 = np.dot(q1, q2)\n",
    "k23 = np.dot(q2, q3)\n",
    "k31 = np.dot(q3, q1)\n",
    "\n",
    "l1 = (17.7+16.3)/2\n",
    "l2 = (10+8.8)/2\n",
    "l3 = (3+1.2)/2\n",
    "\n",
    "d12 = l1-l2\n",
    "d23 = l2-l3\n",
    "d31 = l1-l3\n",
    "\n",
    "d122, d232, d312 = [d**2 for d in [d12, d23, d31]]"
   ]
  },
  {
   "cell_type": "code",
   "execution_count": 140,
   "metadata": {},
   "outputs": [],
   "source": [
    "def func(x):\n",
    "    x1, x2, x3 = x\n",
    "    return [x1**2 - 2*k12*x1*x2 + x2**2 - d122, \n",
    "            x2**2 - 2*k23*x2*x3 + x3**2 - d232, \n",
    "            x3**2 - 2*k31*x3*x1 + x1**2 - d312]\n",
    "\n",
    "from scipy import optimize\n",
    "lambda_i = optimize.fsolve(func, np.array([0, 0, 0]))/100"
   ]
  },
  {
   "cell_type": "code",
   "execution_count": 141,
   "metadata": {},
   "outputs": [],
   "source": [
    "p_i = [l*q for l, q in zip(lambda_i, q_i)]"
   ]
  },
  {
   "cell_type": "code",
   "execution_count": 142,
   "metadata": {},
   "outputs": [
    {
     "data": {
      "text/plain": [
       "array([-5.86197405e-06, -2.69540967e-05,  3.93644122e-05])"
      ]
     },
     "execution_count": 142,
     "metadata": {},
     "output_type": "execute_result"
    }
   ],
   "source": [
    "np.cross(p_i[0] - p_i[1], p_i[1]-p_i[2])"
   ]
  },
  {
   "cell_type": "code",
   "execution_count": 143,
   "metadata": {},
   "outputs": [
    {
     "data": {
      "text/plain": [
       "[-57.754223909346926, -53.28467090560558, -221.98779904605115]"
      ]
     },
     "execution_count": 143,
     "metadata": {},
     "output_type": "execute_result"
    }
   ],
   "source": [
    "func(lambda_i)"
   ]
  },
  {
   "cell_type": "code",
   "execution_count": 144,
   "metadata": {},
   "outputs": [
    {
     "data": {
      "text/plain": [
       "[array([ 0.43549663, -0.56034511,  0.7045254 ]),\n",
       " array([ 0.22998269, -0.58212321,  0.77989777]),\n",
       " array([-0.01813762, -0.57439631,  0.81837639])]"
      ]
     },
     "execution_count": 144,
     "metadata": {},
     "output_type": "execute_result"
    }
   ],
   "source": [
    "q_i"
   ]
  },
  {
   "cell_type": "code",
   "execution_count": 146,
   "metadata": {},
   "outputs": [
    {
     "data": {
      "text/plain": [
       "[array([ 0.14185374, -0.18252046,  0.22948412]),\n",
       " array([ 0.06699758, -0.16958166,  0.2271965 ]),\n",
       " array([-0.00497861, -0.15766651,  0.22463681])]"
      ]
     },
     "execution_count": 146,
     "metadata": {},
     "output_type": "execute_result"
    }
   ],
   "source": [
    "p_i"
   ]
  },
  {
   "cell_type": "code",
   "execution_count": 145,
   "metadata": {},
   "outputs": [
    {
     "data": {
      "text/plain": [
       "0.006800481666791078"
      ]
     },
     "execution_count": 145,
     "metadata": {},
     "output_type": "execute_result"
    }
   ],
   "source": [
    "np.dot(table_plane, np.append(p_i[1], 1))"
   ]
  },
  {
   "cell_type": "code",
   "execution_count": 148,
   "metadata": {},
   "outputs": [
    {
     "data": {
      "text/plain": [
       "(array([0.11614623, 0.00391899, 0.13034754]),\n",
       " array([-0.08056796, -0.04194788,  0.15411815]),\n",
       " array([-2.78025045e-04, -3.05224920e-01,  2.89319260e-01]),\n",
       " array([ 0.19643617, -0.25935805,  0.26554865]))"
      ]
     },
     "execution_count": 148,
     "metadata": {},
     "output_type": "execute_result"
    }
   ],
   "source": [
    "pd = pb + pc - pa\n",
    "pa, pb, pd, pc"
   ]
  },
  {
   "cell_type": "code",
   "execution_count": null,
   "metadata": {},
   "outputs": [],
   "source": []
  }
 ],
 "metadata": {
  "kernelspec": {
   "display_name": "Python 3",
   "language": "python",
   "name": "python3"
  },
  "language_info": {
   "codemirror_mode": {
    "name": "ipython",
    "version": 3
   },
   "file_extension": ".py",
   "mimetype": "text/x-python",
   "name": "python",
   "nbconvert_exporter": "python",
   "pygments_lexer": "ipython3",
   "version": "3.7.3"
  }
 },
 "nbformat": 4,
 "nbformat_minor": 2
}
