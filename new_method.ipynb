{
 "cells": [
  {
   "cell_type": "code",
   "execution_count": 2,
   "metadata": {},
   "outputs": [],
   "source": [
    "import numpy as np"
   ]
  },
  {
   "cell_type": "code",
   "execution_count": 3,
   "metadata": {},
   "outputs": [],
   "source": [
    "def middle(x1, y1, x2, y2):\n",
    "    dx = x2 + x1\n",
    "    dy = y2 + y1\n",
    "    x=dx/2\n",
    "    y=dy/2\n",
    "    return (x,y)"
   ]
  },
  {
   "cell_type": "code",
   "execution_count": 4,
   "metadata": {},
   "outputs": [],
   "source": [
    "def distance(x1, y1, x2, y2):\n",
    "    dx=x2-x1\n",
    "    dy=y2-y1\n",
    "    dis=np.sqrt(dx*dx+dy*dy)\n",
    "    \n",
    "    return dis"
   ]
  },
  {
   "cell_type": "code",
   "execution_count": 5,
   "metadata": {},
   "outputs": [],
   "source": [
    "with open(\"checkers_fullsize/outs.csv\") as f:\n",
    "    vps = np.array([l.strip(\"\\n\").split(\",\") for l in f.readlines()]).astype(\"float\")\n",
    "vv1, vv2 = vps[:,:3], vps[:,3:6]\n",
    "vv1[:, 0:2] = vv1[:, 0:2]/3000\n",
    "vv2[:, 0:2] = vv2[:, 0:2]/3000\n",
    "index=[1,4,6,7,8,11]\n",
    "vv1=vv1[index]\n",
    "vv2=vv2[index]"
   ]
  },
  {
   "cell_type": "code",
   "execution_count": 6,
   "metadata": {},
   "outputs": [
    {
     "name": "stderr",
     "output_type": "stream",
     "text": [
      "/home/arnab/anaconda3/lib/python3.7/site-packages/ipykernel_launcher.py:11: FutureWarning: `rcond` parameter will change to the default of machine precision times ``max(M, N)`` where M and N are the input matrix dimensions.\n",
      "To use the future default and silence this warning we advise to pass `rcond=None`, to keep using the old, explicitly pass `rcond=-1`.\n",
      "  # This is added back by InteractiveShellApp.init_path()\n"
     ]
    }
   ],
   "source": [
    "A = []\n",
    "b = []\n",
    "for i in range(0,len(vv1)-1):\n",
    "    x_i,y_i=middle(vv1[i][0],vv1[i][1],vv2[i][0],vv2[i][1])\n",
    "    x_j,y_j=middle(vv1[i+1][0],vv1[i+1][1],vv2[i+1][0],vv2[i+1][1])\n",
    "    r_i=distance(vv1[i][0],vv1[i][1],x_i,y_i)\n",
    "    r_j=distance(vv1[i+1][0],vv1[i+1][1],x_j,y_j)\n",
    "    A += [[ 2*(x_j-x_i),\n",
    "                2*(y_j-y_i) ]]\n",
    "    b += [ x_j*x_j-x_i*x_i+y_j*y_j-y_i*y_i+r_i*r_i-r_j*r_j]\n",
    "w = np.linalg.lstsq(A, b)"
   ]
  },
  {
   "cell_type": "code",
   "execution_count": 11,
   "metadata": {},
   "outputs": [],
   "source": [
    "pri=w[0]"
   ]
  },
  {
   "cell_type": "code",
   "execution_count": 13,
   "metadata": {},
   "outputs": [],
   "source": [
    "f=r_i*r_i-(pri[0]-x_i)*(pri[0]-x_i)-(pri[1]-y_i)*(pri[1]-y_i)"
   ]
  },
  {
   "cell_type": "code",
   "execution_count": 15,
   "metadata": {},
   "outputs": [
    {
     "data": {
      "text/plain": [
       "2564.1631219140745"
      ]
     },
     "execution_count": 15,
     "metadata": {},
     "output_type": "execute_result"
    }
   ],
   "source": [
    "np.sqrt(f)*3000"
   ]
  },
  {
   "cell_type": "code",
   "execution_count": null,
   "metadata": {},
   "outputs": [],
   "source": []
  }
 ],
 "metadata": {
  "kernelspec": {
   "display_name": "Python 3",
   "language": "python",
   "name": "python3"
  },
  "language_info": {
   "codemirror_mode": {
    "name": "ipython",
    "version": 3
   },
   "file_extension": ".py",
   "mimetype": "text/x-python",
   "name": "python",
   "nbconvert_exporter": "python",
   "pygments_lexer": "ipython3",
   "version": "3.7.1"
  }
 },
 "nbformat": 4,
 "nbformat_minor": 2
}
