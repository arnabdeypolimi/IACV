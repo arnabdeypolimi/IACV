{
 "cells": [
  {
   "cell_type": "code",
   "execution_count": 1,
   "metadata": {},
   "outputs": [],
   "source": [
    "from matplotlib import pyplot as plt\n",
    "import numpy as np\n",
    "import skimage, skimage.morphology, skimage.feature\n",
    "%matplotlib inline"
   ]
  },
  {
   "cell_type": "markdown",
   "metadata": {},
   "source": [
    "Computes a homogeneous line vector from the $\\rho$, $\\theta$ parameters returned by SKImage's Hough transform"
   ]
  },
  {
   "cell_type": "code",
   "execution_count": 2,
   "metadata": {},
   "outputs": [],
   "source": [
    "def homline(rho, theta):\n",
    "    return [np.cos(theta), np.sin(theta), -rho]"
   ]
  },
  {
   "cell_type": "markdown",
   "metadata": {},
   "source": [
    "Returns intersection of two homogeneous lines"
   ]
  },
  {
   "cell_type": "markdown",
   "metadata": {},
   "source": [
    "**TODO:** Points at the infinity are not handled properly"
   ]
  },
  {
   "cell_type": "code",
   "execution_count": 3,
   "metadata": {},
   "outputs": [],
   "source": [
    "def homintersect(l1, l2):\n",
    "    p = np.cross(l1, l2)\n",
    "    p = p/p[2]\n",
    "    return p"
   ]
  },
  {
   "cell_type": "markdown",
   "metadata": {},
   "source": [
    "Produces an image of the same shape given as second parameter, representing the geometrical locus of the predicate in the first parameter: the image is 1 if the predicate holds, 0 otherwise."
   ]
  },
  {
   "cell_type": "code",
   "execution_count": 4,
   "metadata": {},
   "outputs": [],
   "source": [
    "def locus_imshape(pred, shape):\n",
    "    return np.array([[1.0 if pred(x, y) else 0.0 for x in range(0, shape[1])] for y in range(0, shape[0])])"
   ]
  },
  {
   "cell_type": "code",
   "execution_count": 5,
   "metadata": {},
   "outputs": [],
   "source": [
    "pic = plt.imread(\"pics2/3.JPG\")"
   ]
  },
  {
   "cell_type": "markdown",
   "metadata": {},
   "source": [
    "`bwpic` is the B/W version of the analysed picture"
   ]
  },
  {
   "cell_type": "markdown",
   "metadata": {},
   "source": [
    "**TODO:** Thresholding is not a good method to isolate the table surface. Some kind of colour segmentation would be better, especially if it took into account local colour continuity."
   ]
  },
  {
   "cell_type": "code",
   "execution_count": 6,
   "metadata": {
    "scrolled": true
   },
   "outputs": [],
   "source": [
    "bwpic = np.linalg.norm(pic, axis=2)\n",
    "bwpic = skimage.filters.median(bwpic.astype(\"uint16\"), skimage.morphology.disk(8))\n",
    "bwpic = bwpic/np.max(bwpic)\n",
    "maskpic = skimage.morphology.binary_dilation(bwpic > 0.8)\n",
    "maskpic = skimage.morphology.binary_dilation(maskpic)"
   ]
  },
  {
   "cell_type": "markdown",
   "metadata": {},
   "source": [
    "A histogram is temporarily used to find a good threshold for the table surface"
   ]
  },
  {
   "cell_type": "code",
   "execution_count": 7,
   "metadata": {
    "scrolled": true
   },
   "outputs": [
    {
     "data": {
      "image/png": "[encoded data removed]",
      "text/plain": [
       "<Figure size 432x288 with 1 Axes>"
      ]
     },
     "metadata": {
      "needs_background": "light"
     },
     "output_type": "display_data"
    }
   ],
   "source": [
    "plt.figure(\"hist\")\n",
    "_ = plt.hist(bwpic.flatten())"
   ]
  },
  {
   "cell_type": "code",
   "execution_count": 8,
   "metadata": {
    "scrolled": true
   },
   "outputs": [
    {
     "data": {
      "text/plain": [
       "<matplotlib.image.AxesImage at 0x13c345da0>"
      ]
     },
     "execution_count": 8,
     "metadata": {},
     "output_type": "execute_result"
    },
    {
     "data": {
      "image/png": "[encoded data removed]",
      "text/plain": [
       "<Figure size 432x288 with 1 Axes>"
      ]
     },
     "metadata": {
      "needs_background": "light"
     },
     "output_type": "display_data"
    }
   ],
   "source": [
    "plt.figure(\"bwmed\")\n",
    "plt.imshow(maskpic)"
   ]
  },
  {
   "cell_type": "code",
   "execution_count": 9,
   "metadata": {},
   "outputs": [
    {
     "data": {
      "text/plain": [
       "<matplotlib.image.AxesImage at 0x100ca3668>"
      ]
     },
     "execution_count": 9,
     "metadata": {},
     "output_type": "execute_result"
    },
    {
     "data": {
      "image/png": "[encoded data removed]",
      "text/plain": [
       "<Figure size 432x288 with 1 Axes>"
      ]
     },
     "metadata": {
      "needs_background": "light"
     },
     "output_type": "display_data"
    }
   ],
   "source": [
    "cannypic = skimage.feature.canny(maskpic)\n",
    "plt.figure('canny')\n",
    "plt.imshow(cannypic)"
   ]
  },
  {
   "cell_type": "code",
   "execution_count": 10,
   "metadata": {},
   "outputs": [],
   "source": [
    "hres = skimage.transform.hough_line(cannypic)\n",
    "threshold = 0.1*np.max(hres[0])\n",
    "_, angles, dists = skimage.transform.hough_line_peaks(*hres, num_peaks=4, threshold=threshold, min_distance=100)\n",
    "\n",
    "lines = [homline(rho, theta) for rho, theta in zip(dists, angles)]\n",
    "assert(len(lines) == 4), f\"Should be 4 lines, not {len(lines)}!\""
   ]
  },
  {
   "cell_type": "markdown",
   "metadata": {},
   "source": [
    "Vanishing points are found by assuming that the lines with the closest angles are images of parallel lines."
   ]
  },
  {
   "cell_type": "markdown",
   "metadata": {},
   "source": [
    "**TODO:** Verify that the assumption is formally valid."
   ]
  },
  {
   "cell_type": "code",
   "execution_count": 11,
   "metadata": {},
   "outputs": [
    {
     "data": {
      "text/plain": [
       "[<matplotlib.lines.Line2D at 0x100ca3be0>]"
      ]
     },
     "execution_count": 11,
     "metadata": {},
     "output_type": "execute_result"
    },
    {
     "data": {
      "image/png": "[encoded data removed]",
      "text/plain": [
       "<Figure size 432x288 with 1 Axes>"
      ]
     },
     "metadata": {
      "needs_background": "light"
     },
     "output_type": "display_data"
    }
   ],
   "source": [
    "# The angle space should be continuous between -pi/2 and pi/2, so we throw the antipodal angles into the mix\n",
    "# The indices will be restored by modding by 4\n",
    "angles_xt = list(enumerate(np.concatenate((angles, angles+np.pi))))\n",
    "angle_cpls = [((i, x), (j, y)) for i, x in angles_xt for j, y in angles_xt if i<j]\n",
    "# The angles are the second elements of each (i, x) tuple in the couple\n",
    "mindstcpl = min(angle_cpls, key=lambda ix_jy: abs(ix_jy[0][1]-ix_jy[1][1]))\n",
    "par_idcs1 = [mindstcpl[0][0]%4, mindstcpl[1][0]%4]\n",
    "par_idcs2 = [i for i in range(4) if i not in par_idcs1]\n",
    "\n",
    "# Not very elegant, I know\n",
    "vp1 = homintersect(lines[par_idcs1[0]], lines[par_idcs1[1]])\n",
    "vp2 = homintersect(lines[par_idcs2[0]], lines[par_idcs2[1]])\n",
    "intersections = np.array([homintersect(lines[i], lines[j]) for i in par_idcs1 for j in par_idcs2])\n",
    "\n",
    "vps = np.array([vp1, vp2])\n",
    "\n",
    "plt.figure(\"points\")\n",
    "plt.imshow(pic)\n",
    "plt.plot(intersections[:,0], intersections[:,1], 'bo')\n",
    "plt.plot(vps[:, 0], vps[:, 1], 'ro')"
   ]
  }
 ],
 "metadata": {
  "kernelspec": {
   "display_name": "Python 3",
   "language": "python",
   "name": "python3"
  },
  "language_info": {
   "codemirror_mode": {
    "name": "ipython",
    "version": 3
   },
   "file_extension": ".py",
   "mimetype": "text/x-python",
   "name": "python",
   "nbconvert_exporter": "python",
   "pygments_lexer": "ipython3",
   "version": "3.7.1"
  }
 },
 "nbformat": 4,
 "nbformat_minor": 2
}
