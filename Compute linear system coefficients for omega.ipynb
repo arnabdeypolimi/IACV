{
 "cells": [
  {
   "cell_type": "code",
   "execution_count": 1,
   "metadata": {},
   "outputs": [],
   "source": [
    "from sympy import *\n",
    "init_printing(use_unicode=True)"
   ]
  },
  {
   "cell_type": "code",
   "execution_count": 2,
   "metadata": {},
   "outputs": [
    {
     "data": {
      "text/latex": [
       "$$\\left[\\begin{matrix}\\omega_{0} & 0 & \\omega_{1}\\\\0 & \\omega_{3} & \\omega_{2}\\\\\\omega_{1} & \\omega_{2} & \\omega_{4}\\end{matrix}\\right]$$"
      ],
      "text/plain": [
       "⎡ω₀  0   ω₁⎤\n",
       "⎢          ⎥\n",
       "⎢0   ω₃  ω₂⎥\n",
       "⎢          ⎥\n",
       "⎣ω₁  ω₂  ω₄⎦"
      ]
     },
     "execution_count": 2,
     "metadata": {},
     "output_type": "execute_result"
    }
   ],
   "source": [
    "v1 = Matrix(symbols(\"vv1[i][0] vv1[i][1] vv1[i][2]\"))\n",
    "v2 = Matrix(symbols(\"vv2[i][0] vv2[i][1] vv2[i][2]\"))\n",
    "w = symbols(\"omega_0 omega_1 omega_2 omega_3 omega_4\")\n",
    "W = Matrix([[w[0],  0,   w[1]],\n",
    "            [ 0,  w[3],  w[2]],\n",
    "            [w[1], w[2], w[4]]])\n",
    "W"
   ]
  },
  {
   "cell_type": "code",
   "execution_count": 3,
   "metadata": {},
   "outputs": [
    {
     "data": {
      "text/plain": [
       "'omega_0*vv1[i][0]*vv2[i][0] + omega_1*(vv1[i][0]*vv2[i][2] + vv1[i][2]*vv2[i][0]) + omega_2*(vv1[i][1]*vv2[i][2] + vv1[i][2]*vv2[i][1]) + omega_3*vv1[i][1]*vv2[i][1] + omega_4*vv1[i][2]*vv2[i][2]'"
      ]
     },
     "execution_count": 3,
     "metadata": {},
     "output_type": "execute_result"
    }
   ],
   "source": [
    "p = v1.T*W*v2\n",
    "str(collect(expand(p[0]), w))"
   ]
  }
 ],
 "metadata": {
  "kernelspec": {
   "display_name": "Python 3",
   "language": "python",
   "name": "python3"
  },
  "language_info": {
   "codemirror_mode": {
    "name": "ipython",
    "version": 3
   },
   "file_extension": ".py",
   "mimetype": "text/x-python",
   "name": "python",
   "nbconvert_exporter": "python",
   "pygments_lexer": "ipython3",
   "version": "3.7.2"
  }
 },
 "nbformat": 4,
 "nbformat_minor": 2
}
