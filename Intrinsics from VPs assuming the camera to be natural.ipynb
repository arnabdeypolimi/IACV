{
 "cells": [
  {
   "cell_type": "code",
   "execution_count": 75,
   "metadata": {},
   "outputs": [],
   "source": [
    "import numpy as np\n",
    "import math\n",
    "normf = 1000"
   ]
  },
  {
   "cell_type": "code",
   "execution_count": 76,
   "metadata": {},
   "outputs": [],
   "source": [
    "def middle(x1, y1, x2, y2):\n",
    "    dx = x2 + x1\n",
    "    dy = y2 + y1\n",
    "    x=dx/2\n",
    "    y=dy/2\n",
    "    return (x,y)"
   ]
  },
  {
   "cell_type": "code",
   "execution_count": 77,
   "metadata": {},
   "outputs": [],
   "source": [
    "def distance(x1, y1, x2, y2):\n",
    "    dx=x2-x1\n",
    "    dy=y2-y1\n",
    "    dis=np.sqrt(dx*dx+dy*dy)\n",
    "    \n",
    "    return dis"
   ]
  },
  {
   "cell_type": "code",
   "execution_count": 78,
   "metadata": {},
   "outputs": [],
   "source": [
    "with open(\"checkers_fullsize/outs.csv\") as f:\n",
    "    vps = np.array([l.strip(\"\\n\").split(\",\") for l in f.readlines()]).astype(\"float\")\n",
    "vv1, vv2 = vps[:,:3], vps[:,3:6]\n",
    "vv1[:, 0:2] = vv1[:, 0:2]/normf\n",
    "vv2[:, 0:2] = vv2[:, 0:2]/normf\n",
    "index=[7,8,9,10]\n",
    "vv1=vv1[index]\n",
    "vv2=vv2[index]"
   ]
  },
  {
   "cell_type": "code",
   "execution_count": 79,
   "metadata": {},
   "outputs": [],
   "source": [
    "A = []\n",
    "b = []\n",
    "for i in range(0,len(vv1)-1):\n",
    "    x_i,y_i=middle(vv1[i][0],vv1[i][1],vv2[i][0],vv2[i][1])\n",
    "    x_j,y_j=middle(vv1[i+1][0],vv1[i+1][1],vv2[i+1][0],vv2[i+1][1])\n",
    "    r_i=distance(vv1[i][0],vv1[i][1],x_i,y_i)\n",
    "    r_j=distance(vv1[i+1][0],vv1[i+1][1],x_j,y_j)\n",
    "    A += [[ 2*(x_j-x_i),\n",
    "                2*(y_j-y_i) ]]\n",
    "    b += [ x_j*x_j-x_i*x_i+y_j*y_j-y_i*y_i+r_i*r_i-r_j*r_j]\n",
    "w = np.linalg.lstsq(A, b, rcond=None)"
   ]
  },
  {
   "cell_type": "code",
   "execution_count": 80,
   "metadata": {},
   "outputs": [],
   "source": [
    "pri=w[0]"
   ]
  },
  {
   "cell_type": "code",
   "execution_count": 88,
   "metadata": {},
   "outputs": [],
   "source": [
    "f = np.sqrt(r_j*r_j-(pri[0]-x_j)*(pri[0]-x_j)-(pri[1]-y_j)*(pri[1]-y_j))"
   ]
  },
  {
   "cell_type": "code",
   "execution_count": 89,
   "metadata": {},
   "outputs": [
    {
     "data": {
      "text/plain": [
       "3129.027650724505"
      ]
     },
     "execution_count": 89,
     "metadata": {},
     "output_type": "execute_result"
    }
   ],
   "source": [
    "f*normf"
   ]
  },
  {
   "cell_type": "code",
   "execution_count": 90,
   "metadata": {},
   "outputs": [
    {
     "data": {
      "text/plain": [
       "array([1595.72974681, 1157.71015712])"
      ]
     },
     "execution_count": 90,
     "metadata": {},
     "output_type": "execute_result"
    }
   ],
   "source": [
    "pri*normf"
   ]
  },
  {
   "cell_type": "code",
   "execution_count": 91,
   "metadata": {},
   "outputs": [
    {
     "data": {
      "text/plain": [
       "-0.4581966423606243"
      ]
     },
     "execution_count": 91,
     "metadata": {},
     "output_type": "execute_result"
    }
   ],
   "source": [
    "v1=[vv1[0][0]-pri[0], vv1[0][1]-pri[1], -f]\n",
    "v2=[vv2[0][0]-pri[0], vv2[0][1]-pri[1], -f]\n",
    "np.dot(v1,v2)"
   ]
  },
  {
   "cell_type": "code",
   "execution_count": 96,
   "metadata": {},
   "outputs": [
    {
     "data": {
      "text/plain": [
       "(array([1.59572975, 1.15771016]), 3.1290276507245047)"
      ]
     },
     "execution_count": 96,
     "metadata": {},
     "output_type": "execute_result"
    }
   ],
   "source": [
    "pri, f"
   ]
  },
  {
   "cell_type": "code",
   "execution_count": 93,
   "metadata": {},
   "outputs": [],
   "source": [
    "def length(v):\n",
    "    return math.sqrt(np.dot(v, v))"
   ]
  },
  {
   "cell_type": "code",
   "execution_count": 94,
   "metadata": {
    "scrolled": true
   },
   "outputs": [
    {
     "data": {
      "text/plain": [
       "90.29907273188313"
      ]
     },
     "execution_count": 94,
     "metadata": {},
     "output_type": "execute_result"
    }
   ],
   "source": [
    "np.rad2deg(math.acos(np.dot(v1, v2) / (length(v1) * length(v2))))"
   ]
  }
 ],
 "metadata": {
  "kernelspec": {
   "display_name": "Python 3",
   "language": "python",
   "name": "python3"
  },
  "language_info": {
   "codemirror_mode": {
    "name": "ipython",
    "version": 3
   },
   "file_extension": ".py",
   "mimetype": "text/x-python",
   "name": "python",
   "nbconvert_exporter": "python",
   "pygments_lexer": "ipython3",
   "version": "3.7.2"
  }
 },
 "nbformat": 4,
 "nbformat_minor": 2
}
