{
 "cells": [
  {
   "cell_type": "code",
   "execution_count": null,
   "metadata": {},
   "outputs": [],
   "source": [
    "import numpy as np"
   ]
  },
  {
   "cell_type": "markdown",
   "metadata": {},
   "source": [
    "`vv1` and `vv2` are to be given so that `vv1[i]` and `vv2[i]` were images of orthogonal VPs in the i-th picture. Coefficients are calculated in the notebook \"Compute linear system coefficients for omega\".\n",
    "\n",
    "Recall that $\\omega = (KK^T)^{-1} = K^{-T}K^{-1}$. Since the inverse of an upper triangular matrix is upper triangular, $K^{-T}$ is lower triangular, so the Cholesky decomposition of $\\omega$ will return $K^{-T}$, which will have to be inverted and transposed."
   ]
  },
  {
   "cell_type": "code",
   "execution_count": null,
   "metadata": {},
   "outputs": [],
   "source": [
    "def K_from_vps(vv1, vv2):\n",
    "    assert (len(vv1) == 4 and len(vv2) == 4), \"Length of vv1 and vv2 must be 4!\"\n",
    "    A = []\n",
    "    b = []\n",
    "    for i in range(len(vv1)):\n",
    "        A += [[ vv1[i][0]*vv2[i][0],\n",
    "                vv1[i][0]*vv2[i][2] + vv1[i][2]*vv2[i][0],\n",
    "                vv1[i][1]*vv2[i][2] + vv1[i][2]*vv2[i][1],\n",
    "                vv1[i][1]*vv2[i][1] ]]\n",
    "        b += [ -vv1[i][2]*vv2[i][2] ]\n",
    "    w = np.linalg.solve(A, b)\n",
    "    \n",
    "    W = np.array([[w[0],  0,   w[1]],\n",
    "                 [ 0,  w[3],  w[2]],\n",
    "                 [w[1], w[2],  1 ]])\n",
    "    K = np.linalg.inv(np.linalg.cholesky(np.array(W))).T\n",
    "    return K/K[2,2]"
   ]
  },
  {
   "cell_type": "markdown",
   "metadata": {},
   "source": [
    "**TODO:** Test this with ground truth data"
   ]
  },
  {
   "cell_type": "code",
   "execution_count": null,
   "metadata": {},
   "outputs": [],
   "source": [
    "with open(\"pics2/vps.csv\") as f:\n",
    "    vps = np.array([l.strip(\"\\n\").split(\",\") for l in f.readlines()]).astype(\"float\")\n",
    "vv1, vv2 = vps[:,:3], vps[:,3:]\n",
    "vv1[:, 0:2] = vv1[:, 0:2]/6000\n",
    "vv2[:, 0:2] = vv2[:, 0:2]/6000\n",
    "K_from_vps(vv1, vv2)"
   ]
  },
  {
   "cell_type": "markdown",
   "metadata": {},
   "source": [
    "Consider a coordinate system centered in the center of the table, with $x$ and $y$ directions parallel to its edges. Once we have $K$, $R$ can be computed by considering that the rays through the projections of the vanishing points must be perpendicular.\n",
    "\n",
    "Let $\\mathbf u$ and $\\mathbf v$ be the projections vanishing points on the plane $z=k$ in Euclidean coordinates (these can be obtained by inverting $K$ on the pixel coordinates). We know $\\mathbf u \\cdot \\mathbf v = 0$, so solving for $k$ we get $k^2 = -x_u x_v - y_u y_v$. Immediately we get $\\mathbf x' = \\frac{\\mathbf u}{||\\mathbf u||}$ and $\\mathbf y' = \\frac {\\mathbf v} {||\\mathbf v||}$, and of course $\\mathbf z' = \\mathbf x' \\times \\mathbf y'$. Lastly,\n",
    "\n",
    "$$\n",
    "R = \\begin{pmatrix} \n",
    "\\\\\n",
    "\\mathbf x' & \\mathbf y' & \\mathbf z' \\\\\n",
    "\\\\\n",
    "\\end{pmatrix}\n",
    "$$."
   ]
  },
  {
   "cell_type": "markdown",
   "metadata": {},
   "source": [
    "In order to find the missing $\\mathbf t$ that completes $P = K \\begin{pmatrix}\n",
    "R & \\mathbf t\n",
    "\\end{pmatrix}$ the table size and the projections of its corners on the image plane can be used. There are five points of which we know in-world position and projections on the image plane: the four corners of the table and its center, the intersection of the diagonals. Let $\\mathbf x'$ be the projection on the image plane of the known point $\\mathbf x$, and let $H := \\begin{pmatrix}\n",
    "R & \\mathbf t\n",
    "\\end{pmatrix}$. Being $\\mathbb R^3$ the codomain of $H$ we can express the constraint that $H \\mathbf x$ be in the span of $\\mathbf x'$ with the equation $H \\mathbf x \\times \\mathbf x' = \\mathbf 0$. By writing $\\mathbf x =: \\begin{pmatrix}\\mathbf x_{1-3} & x_4\\end{pmatrix}^\\top$ and considering the definition of $H$ one can rewrite the constraints as:\n",
    "\n",
    "$$\n",
    "(R \\mathbf x_{1-3} + \\mathbf t x_4) \\times \\mathbf x' = \\mathbf 0 \\\\\n",
    "\\implies R \\mathbf x_{1-3} \\times \\mathbf x' = -x_4 \\mathbf t \\\\\n",
    "\\implies \\mathbf x' \\times \\mathbf t = -\\frac{1}{x_4} \\mathbf x' \\times R \\mathbf x_{1-3}\n",
    "$$\n",
    "\n",
    "In the last form of the equation $\\mathbf t$ is the only unknown, as the right hand side is a constant vector; furthermore, cross product by $\\mathbf x'$ can be expressed as a matrix multiplication, hence we have:\n",
    "\n",
    "$$\n",
    "\\mathbf x'_{[\\times]} \\mathbf t = \n",
    "\\begin{bmatrix}\n",
    "0 & -x_3' & x_2' \\\\\n",
    "x_3' & 0 & -x_1' \\\\\n",
    "-x_2' & x_1' & 0 \n",
    "\\end{bmatrix} \\mathbf t = -\\frac{1}{x_4} \\mathbf x' \\times R \\mathbf x_{1-3}\n",
    "$$\n",
    "\n",
    "$\\mathbf x'_{[\\times]}$ has rank 2 (it cannot be full rank since $\\mathbf x'_{[\\times]} \\mathbf x' = \\mathbf x' \\times \\mathbf x' = \\mathbf 0$), at least two such constraints are needed in order to specify $\\mathbf t$.\n",
    "\n",
    "If the projections of the vanishing points are taken as known points, as they are the images of $\\begin{pmatrix}1 & 0 & 0 & 1\\end{pmatrix}^\\top$ and $\\begin{pmatrix}0 & 1 & 0 & 1\\end{pmatrix}^\\top$ respectively, the right hand side vector become $-\\mathbf x' \\times R^{1\\top}$ and $-\\mathbf y' \\times R^{2\\top}$ where $R^{n\\top}$ id the $n$-th column of $R$."
   ]
  },
  {
   "cell_type": "code",
   "execution_count": null,
   "metadata": {},
   "outputs": [],
   "source": [
    "def find_projection_matrix(K, vpx, vpy):\n",
    "    def normalize(v):\n",
    "        return v/np.linalg.norm(v)\n",
    "    \n",
    "    def crossmatrix(u):\n",
    "        return np.array([[0,    -u[2],  u[1]],\n",
    "                         [u[2],   0,   -u[0]],\n",
    "                         [-u[1],  u[0],  0 ]])\n",
    "    \n",
    "    # vpx_impl is the projection of vpx on the image plane, without Z coordinate\n",
    "    vpx = np.array(vpx)\n",
    "    vpy = np.array(vpy)\n",
    "    K = np.array(K)\n",
    "    \n",
    "    Kinv = np.linalg.inv(K)\n",
    "    vpx_impl = np.dot(Kinv, vpx)\n",
    "    vpy_impl = np.dot(Kinv, vpy)\n",
    "    vpx_impl = vpx_impl/vpx_impl[2]\n",
    "    vpy_impl = vpy_impl/vpy_impl[2]\n",
    "    print(vpx_impl, vpy_impl)\n",
    "    \n",
    "    # (lowercase) k is the Z coordinate of the plane, u and v are the full vectors\n",
    "    k = np.sqrt(-vpx_impl[0]*vpy_impl[0] - vpx_impl[1]*vpy_impl[1])\n",
    "    u = [vpx_impl[0], vpx_impl[1], k]\n",
    "    v = [vpy_impl[0], vpy_impl[1], k]\n",
    "    R = np.column_stack((normalize(u), normalize(v), normalize(np.cross(u, v))))\n",
    "    \n",
    "    bx = -np.cross(vpx_impl, R[:,0].T)\n",
    "    by = -np.cross(vpy_impl, R[:,1].T)\n",
    "    b = np.concatenate((bx, by))\n",
    "    A = np.row_stack((crossmatrix(vpx_impl), crossmatrix(vpy_impl)))\n",
    "    \n",
    "    def minors(n): \n",
    "        return ([i, j, k] for i in range(n)\n",
    "                          for j in range(i+1, n)\n",
    "                          for k in range(j+1, n))\n",
    "    \n",
    "    # We select a triple of linearly independent rows\n",
    "    ind_minor = next(m for m in minors(6) if np.linalg.det(A[m]) != 0)\n",
    "    A = A[ind_minor]\n",
    "    b = b[ind_minor]\n",
    "    t = np.linalg.solve(A, b)\n",
    "    \n",
    "    P = np.dot(K, np.column_stack((R, t)))\n",
    "    print(np.linalg.det(A))\n",
    "    return P"
   ]
  },
  {
   "cell_type": "code",
   "execution_count": null,
   "metadata": {},
   "outputs": [],
   "source": [
    "K = [[1159.10049262109, 8.81182868511778,  656.356931046326],\n",
    "     [0,                1164.35813268503,  499.093066111278],\n",
    "     [0,                0,                 1               ]]\n",
    "vpx = [ 4.03377304e+03, -1.03233832e+03,  1.00000000e+00]\n",
    "vpy = [-7.78844385e+02, -1.86022864e+03,  1.00000000e+00]"
   ]
  },
  {
   "cell_type": "code",
   "execution_count": null,
   "metadata": {},
   "outputs": [],
   "source": [
    "find_projection_matrix(K, vpx, vpy)"
   ]
  },
  {
   "cell_type": "markdown",
   "metadata": {},
   "source": [
    "## Deriving P with method 4.1 from the paper\n",
    "\n",
    "$\\lambda_h$ can be derived imposing the area of the table surface as a constraint:\n",
    "\n",
    "$$\n",
    "AB \\cdot AC = A \\\\\n",
    "A = |\\mathbf p_B - \\mathbf p_A|\\cdot|\\mathbf p_C - \\mathbf p_A| \\\\\n",
    "A = |\\lambda_h \\mathbf c_B - \\lambda_h \\mathbf c_A|\\cdot|\\lambda_h \\mathbf c_C - \\lambda_h \\mathbf c_A| \\\\\n",
    "\\lambda_h = \\sqrt \\frac{A}{|\\mathbf c_B - \\mathbf c_A|\\cdot|\\mathbf c_C - \\mathbf c_A|}\n",
    "$$\n",
    "\n",
    "$\\mathbf c_A$ is the vector obtaining in equation (15) of the paper by decomposing $\\mathbf t_{wc}$ as in equation (13):\n",
    "\n",
    "$$\n",
    "\\mathbf p_A =\n",
    "\\frac{\\hat{\\mathbf q}_n \\times \\hat{\\mathbf q}_m \\cdot \\mathbf t_{wc}}{\\hat{\\mathbf q}_n \\times \\hat{\\mathbf q}_m \\cdot \\hat{\\mathbf q}_a} \\hat{\\mathbf q}_a =\n",
    "\\frac{\\hat{\\mathbf q}_n \\times \\hat{\\mathbf q}_m \\cdot \\lambda_h \\hat{\\mathbf q}_h}{\\hat{\\mathbf q}_n \\times \\hat{\\mathbf q}_m \\cdot \\hat{\\mathbf q}_a} \\hat{\\mathbf q}_a =\n",
    "\\lambda_h \\frac{\\hat{\\mathbf q}_n \\times \\hat{\\mathbf q}_m \\cdot \\hat{\\mathbf q}_h}{\\hat{\\mathbf q}_n \\times \\hat{\\mathbf q}_m \\cdot \\hat{\\mathbf q}_a} \\hat{\\mathbf q}_a\n",
    "=: \\lambda_h \\mathbf c_A\n",
    "$$"
   ]
  },
  {
   "cell_type": "code",
   "execution_count": null,
   "metadata": {},
   "outputs": [],
   "source": [
    "# All arguments are 3D vectors\n",
    "def corner_lambda_h_coeff(qm_norm, qn_norm, qh_norm, qa_norm):\n",
    "    return np.dot(np.cross(qn_norm, qm_norm), qh_norm)/np.dot(np.cross(qn_norm, qm_norm), qa_norm) * qa_norm\n",
    "\n",
    "# Normalized vector in camera coordinates corresponding to point in pixel coordinates\n",
    "def qnorm(u_px, v_px, K, k):\n",
    "    uv = np.dot(np.linalg.inv(K), [u_px, v_px, 1])\n",
    "    q = uv/uv[2]\n",
    "    q[2] = k\n",
    "    return q/np.linalg.norm(q)"
   ]
  },
  {
   "cell_type": "code",
   "execution_count": null,
   "metadata": {},
   "outputs": [],
   "source": [
    "# Vertex A of the table must be consecutive to both vertices B and C;\n",
    "# H is the center of the table.\n",
    "# vpx, vpy, uv* must be given in homogeneous pixel coordinates.\n",
    "def find_projection_matrix2(K, k, vpx, vpy, uva, uvb, uvc, uvh, table_area):\n",
    "    def normalize(v):\n",
    "        return v/np.linalg.norm(v)\n",
    "    \n",
    "    def hom2eucl(v):\n",
    "        assert(v[-1] != 0), f\"Point at infinity {v} does not have an Euclidean correspondent!\"\n",
    "        return v[:-1]/v[-1]\n",
    "    \n",
    "    # vpx_impl is the projection of vpx on the image plane, without Z coordinate\n",
    "    vpx = np.array(vpx)\n",
    "    vpy = np.array(vpy)\n",
    "    K = np.array(K)\n",
    "    \n",
    "    # (lowercase) k is the Z coordinate of the plane, u and v are the full vectors\n",
    "    qm_norm = qnorm(*hom2eucl(vpx), K, k)\n",
    "    qn_norm = qnorm(*hom2eucl(vpy), K, k)\n",
    "    qz_norm = np.cross(qm_norm, qn_norm)\n",
    "    R = np.column_stack(qm_norm, qn_norm, qz_norm)\n",
    "    \n",
    "    qh_norm = qnorm(*hom2eucl(uvh), K, k)\n",
    "    qa_norm = qnorm(*hom2eucl(uva), K, k)\n",
    "    qb_norm = qnorm(*hom2eucl(uvb), K, k)\n",
    "    qc_norm = qnorm(*hom2eucl(uvc), K, k)\n",
    "    \n",
    "    ca = corner_lambda_h_coeff(qm_norm, qn_norm, qh_norm, qa_norm)\n",
    "    cb = corner_lambda_h_coeff(qm_norm, qn_norm, qh_norm, qb_norm)\n",
    "    cc = corner_lambda_h_coeff(qm_norm, qn_norm, qh_norm, qc_norm)\n",
    "    \n",
    "    lambda_h = np.sqrt(table_area/(np.linalg.norm(cb - ca)*np.linalg.norm(cc - ca)))\n",
    "    t = lambda_h * qh_norm\n",
    "    \n",
    "    P = np.dot(K, np.column_stack((R, t)))\n",
    "    print(np.linalg.det(A))\n",
    "    return P"
   ]
  }
 ],
 "metadata": {
  "kernelspec": {
   "display_name": "Python 3",
   "language": "python",
   "name": "python3"
  },
  "language_info": {
   "codemirror_mode": {
    "name": "ipython",
    "version": 3
   },
   "file_extension": ".py",
   "mimetype": "text/x-python",
   "name": "python",
   "nbconvert_exporter": "python",
   "pygments_lexer": "ipython3",
   "version": "3.7.2"
  }
 },
 "nbformat": 4,
 "nbformat_minor": 2
}
