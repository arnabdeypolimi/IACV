{
 "cells": [
  {
   "cell_type": "code",
   "execution_count": 25,
   "metadata": {},
   "outputs": [],
   "source": [
    "import numpy as np\n",
    "normf = 1000"
   ]
  },
  {
   "cell_type": "code",
   "execution_count": 26,
   "metadata": {},
   "outputs": [],
   "source": [
    "def middle(x1, y1, x2, y2):\n",
    "    dx = x2 + x1\n",
    "    dy = y2 + y1\n",
    "    x=dx/2\n",
    "    y=dy/2\n",
    "    return (x,y)"
   ]
  },
  {
   "cell_type": "code",
   "execution_count": 27,
   "metadata": {},
   "outputs": [],
   "source": [
    "def distance(x1, y1, x2, y2):\n",
    "    dx=x2-x1\n",
    "    dy=y2-y1\n",
    "    dis=np.sqrt(dx*dx+dy*dy)\n",
    "    \n",
    "    return dis"
   ]
  },
  {
   "cell_type": "code",
   "execution_count": 31,
   "metadata": {},
   "outputs": [],
   "source": [
    "with open(\"rendered_markers/detected/outs.csv\") as f:\n",
    "    vps = np.array([l.strip(\"\\n\").split(\",\")[:-1] for l in f.readlines()]).astype(\"float\")\n",
    "vv1, vv2 = vps[:,:3], vps[:,3:6]\n",
    "vv1[:, 0:2] = vv1[:, 0:2]/normf\n",
    "vv2[:, 0:2] = vv2[:, 0:2]/normf\n",
    "# index=[7,8,9,10]\n",
    "# vv1=vv1[index]\n",
    "# vv2=vv2[index]"
   ]
  },
  {
   "cell_type": "code",
   "execution_count": 32,
   "metadata": {},
   "outputs": [],
   "source": [
    "A = []\n",
    "b = []\n",
    "for i in range(0,len(vv1)-1):\n",
    "    x_i,y_i=middle(vv1[i][0],vv1[i][1],vv2[i][0],vv2[i][1])\n",
    "    x_j,y_j=middle(vv1[i+1][0],vv1[i+1][1],vv2[i+1][0],vv2[i+1][1])\n",
    "    r_i=distance(vv1[i][0],vv1[i][1],x_i,y_i)\n",
    "    r_j=distance(vv1[i+1][0],vv1[i+1][1],x_j,y_j)\n",
    "    A += [[ 2*(x_j-x_i),\n",
    "                2*(y_j-y_i) ]]\n",
    "    b += [ np.square(x_j)-np.square(x_i)+np.square(y_j)-np.square(y_i)+np.square(r_i)-np.square(r_j)]\n",
    "w = np.linalg.lstsq(A, b, rcond=None)"
   ]
  },
  {
   "cell_type": "code",
   "execution_count": 33,
   "metadata": {},
   "outputs": [],
   "source": [
    "pri=w[0]"
   ]
  },
  {
   "cell_type": "code",
   "execution_count": 34,
   "metadata": {},
   "outputs": [],
   "source": [
    "f = np.sqrt(r_j*r_j-(pri[0]-x_j)*(pri[0]-x_j)-(pri[1]-y_j)*(pri[1]-y_j))"
   ]
  },
  {
   "cell_type": "code",
   "execution_count": 35,
   "metadata": {},
   "outputs": [
    {
     "data": {
      "text/plain": [
       "1948.7965719680383"
      ]
     },
     "execution_count": 35,
     "metadata": {},
     "output_type": "execute_result"
    }
   ],
   "source": [
    "f*normf"
   ]
  },
  {
   "cell_type": "code",
   "execution_count": 36,
   "metadata": {},
   "outputs": [
    {
     "data": {
      "text/plain": [
       "array([1917.80241284, 2604.89288755])"
      ]
     },
     "execution_count": 36,
     "metadata": {},
     "output_type": "execute_result"
    }
   ],
   "source": [
    "pri*normf"
   ]
  },
  {
   "cell_type": "code",
   "execution_count": 37,
   "metadata": {},
   "outputs": [
    {
     "data": {
      "text/plain": [
       "-0.5963691440031091"
      ]
     },
     "execution_count": 37,
     "metadata": {},
     "output_type": "execute_result"
    }
   ],
   "source": [
    "v1=[vv1[0][0]-pri[0], vv1[0][1]-pri[1], -f]\n",
    "v2=[vv2[0][0]-pri[0], vv2[0][1]-pri[1], -f]\n",
    "np.dot(v1,v2)"
   ]
  },
  {
   "cell_type": "code",
   "execution_count": 38,
   "metadata": {},
   "outputs": [
    {
     "data": {
      "text/plain": [
       "(array([1.91780241, 2.60489289]), 1.9487965719680382)"
      ]
     },
     "execution_count": 38,
     "metadata": {},
     "output_type": "execute_result"
    }
   ],
   "source": [
    "pri, f"
   ]
  },
  {
   "cell_type": "code",
   "execution_count": 39,
   "metadata": {
    "scrolled": true
   },
   "outputs": [
    {
     "data": {
      "text/plain": [
       "90.46361163993119"
      ]
     },
     "execution_count": 39,
     "metadata": {},
     "output_type": "execute_result"
    }
   ],
   "source": [
    "np.rad2deg(np.arccos(np.dot(v1, v2) / (np.linalg.norm(v1) * np.linalg.norm(v2))))"
   ]
  },
  {
   "cell_type": "code",
   "execution_count": null,
   "metadata": {},
   "outputs": [],
   "source": []
  }
 ],
 "metadata": {
  "kernelspec": {
   "display_name": "Python 3",
   "language": "python",
   "name": "python3"
  },
  "language_info": {
   "codemirror_mode": {
    "name": "ipython",
    "version": 3
   },
   "file_extension": ".py",
   "mimetype": "text/x-python",
   "name": "python",
   "nbconvert_exporter": "python",
   "pygments_lexer": "ipython3",
   "version": "3.7.3"
  }
 },
 "nbformat": 4,
 "nbformat_minor": 2
}
