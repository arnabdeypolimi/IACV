{
 "cells": [
  {
   "cell_type": "code",
   "execution_count": 1,
   "metadata": {},
   "outputs": [],
   "source": [
    "import numpy as np"
   ]
  },
  {
   "cell_type": "markdown",
   "metadata": {},
   "source": [
    "`vv1` and `vv2` are to be given so that `vv1[i]` and `vv2[i]` were images of orthogonal VPs in the i-th picture. Coefficients are calculated in the notebook \"Compute linear system coefficients for omega\".\n",
    "\n",
    "Recall that $\\omega = (KK^T)^{-1} = K^{-T}K^{-1}$. Since the inverse of an upper triangular matrix is upper triangular, $K^{-T}$ is lower triangular, so the Cholesky decomposition of $\\omega$ will return $K^{-T}$, which will have to be inverted and transposed."
   ]
  },
  {
   "cell_type": "code",
   "execution_count": 2,
   "metadata": {},
   "outputs": [],
   "source": [
    "def K_from_vps(vv1, vv2):\n",
    "    assert (len(vv1) == 4 and len(vv2) == 4), \"Length of vv1 and vv2 must be 4!\"\n",
    "    A = []\n",
    "    b = []\n",
    "    for i in range(len(vv1)):\n",
    "        A += [[ vv1[i][0]*vv2[i][0],\n",
    "                vv1[i][0]*vv2[i][2] + vv1[i][2]*vv2[i][0],\n",
    "                vv1[i][1]*vv2[i][2] + vv1[i][2]*vv2[i][1],\n",
    "                vv1[i][1]*vv2[i][1] ]]\n",
    "        b += [ -vv1[i][2]*vv2[i][2] ]\n",
    "    w = np.linalg.solve(A, b)\n",
    "    \n",
    "    W = np.array([[w[0],  0,   w[1]],\n",
    "                 [ 0,  w[3],  w[2]],\n",
    "                 [w[1], w[2],  1 ]])\n",
    "    K = np.linalg.inv(np.linalg.cholesky(np.array(W))).T\n",
    "    return K/K[2,2]"
   ]
  },
  {
   "cell_type": "markdown",
   "metadata": {},
   "source": [
    "**TODO:** Test this with ground truth data"
   ]
  },
  {
   "cell_type": "code",
   "execution_count": 5,
   "metadata": {},
   "outputs": [
    {
     "data": {
      "text/plain": [
       "array([[ 6.00579621e+03,  0.00000000e+00,  3.20150216e+03],\n",
       "       [-2.13268630e-13,  3.82292029e+03, -9.55041891e+02],\n",
       "       [-0.00000000e+00,  0.00000000e+00,  1.00000000e+00]])"
      ]
     },
     "execution_count": 5,
     "metadata": {},
     "output_type": "execute_result"
    }
   ],
   "source": [
    "with open(\"pics2/vps.csv\") as f:\n",
    "    vps = np.array([l.strip(\"\\n\").split(\",\") for l in f.readlines()]).astype(\"float\")\n",
    "vv1, vv2 = vps[:,:3], vps[:,3:]\n",
    "# vv1[:, 0:2] = vv1[:, 0:2]/6000\n",
    "# vv2[:, 0:2] = vv2[:, 0:2]/6000\n",
    "K_from_vps(vv1, vv2)"
   ]
  },
  {
   "cell_type": "markdown",
   "metadata": {},
   "source": [
    "Consider a coordinate system centered in the center of the table, with $x$ and $y$ directions parallel to its edges. Once we have $K$, $R$ can be computed by considering that the rays through the projections of the vanishing points must be perpendicular.\n",
    "\n",
    "Let $\\mathbf u$ and $\\mathbf v$ be the projections vanishing points on the plane $z=k$ in Euclidean coordinates (these can be obtained by inverting $K$ on the pixel coordinates). We know $\\mathbf u \\cdot \\mathbf v = 0$, so solving for $k$ we get $k^2 = -x_u x_v - y_u y_v$. Immediately we get $\\mathbf x' = \\frac{\\mathbf u}{||\\mathbf u||}$ and $\\mathbf y' = \\frac {\\mathbf v} {||\\mathbf v||}$, and of course $\\mathbf z' = \\mathbf x' \\times \\mathbf y'$. Lastly,\n",
    "\n",
    "$$\n",
    "R = \\begin{pmatrix} \n",
    "\\\\\n",
    "\\mathbf x' & \\mathbf y' & \\mathbf z' \\\\\n",
    "\\\\\n",
    "\\end{pmatrix}\n",
    "$$."
   ]
  },
  {
   "cell_type": "markdown",
   "metadata": {},
   "source": [
    "In order to find the missing $\\mathbf t$ that completes $P = K \\begin{pmatrix}\n",
    "R & \\mathbf t\n",
    "\\end{pmatrix}$ the table size and the projections of its corners on the image plane can be used. There are five points of which we know in-world position and projections on the image plane: the four corners of the table and its center, the intersection of the diagonals. Let $\\mathbf x'$ be the projection on the image plane of the known point $\\mathbf x$, and let $H := \\begin{pmatrix}\n",
    "R & \\mathbf t\n",
    "\\end{pmatrix}$. Being $\\mathbb R^3$ the codomain of $H$ we can express the constraint that $H \\mathbf x$ be in the span of $\\mathbf x'$ with the equation $H \\mathbf x \\times \\mathbf x' = \\mathbf 0$. By writing $\\mathbf x =: \\begin{pmatrix}\\mathbf x_{1-3} & x_4\\end{pmatrix}^\\top$ and considering the definition of $H$ one can rewrite the constraints as:\n",
    "\n",
    "$$\n",
    "(R \\mathbf x_{1-3} + \\mathbf t x_4) \\times \\mathbf x' = \\mathbf 0 \\\\\n",
    "\\implies R \\mathbf x_{1-3} \\times \\mathbf x' = -x_4 \\mathbf t \\\\\n",
    "\\implies \\mathbf x' \\times \\mathbf t = -\\frac{1}{x_4} \\mathbf x' \\times R \\mathbf x_{1-3}\n",
    "$$\n",
    "\n",
    "In the last form of the equation $\\mathbf t$ is the only unknown, as the right hand side is a constant vector; furthermore, cross product by $\\mathbf x'$ can be expressed as a matrix multiplication, hence we have:\n",
    "\n",
    "$$\n",
    "\\mathbf x'_{[\\times]} \\mathbf t = \n",
    "\\begin{bmatrix}\n",
    "0 & -x_3' & x_2' \\\\\n",
    "x_3' & 0 & -x_1' \\\\\n",
    "-x_2' & x_1' & 0 \n",
    "\\end{bmatrix} \\mathbf t = -\\frac{1}{x_4} \\mathbf x' \\times R \\mathbf x_{1-3}\n",
    "$$\n",
    "\n",
    "$\\mathbf x'_{[\\times]}$ has rank 2 (it cannot be full rank since $\\mathbf x'_{[\\times]} \\mathbf x' = \\mathbf x' \\times \\mathbf x' = \\mathbf 0$), at least two such constraints are needed in order to specify $\\mathbf t$."
   ]
  },
  {
   "cell_type": "code",
   "execution_count": null,
   "metadata": {},
   "outputs": [],
   "source": []
  }
 ],
 "metadata": {
  "kernelspec": {
   "display_name": "Python 3",
   "language": "python",
   "name": "python3"
  },
  "language_info": {
   "codemirror_mode": {
    "name": "ipython",
    "version": 3
   },
   "file_extension": ".py",
   "mimetype": "text/x-python",
   "name": "python",
   "nbconvert_exporter": "python",
   "pygments_lexer": "ipython3",
   "version": "3.7.2"
  }
 },
 "nbformat": 4,
 "nbformat_minor": 2
}
