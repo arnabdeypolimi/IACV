{
 "cells": [
  {
   "cell_type": "code",
   "execution_count": 21,
   "metadata": {},
   "outputs": [],
   "source": [
    "from matplotlib import pyplot as plt\n",
    "import numpy as np\n",
    "import skimage, skimage.morphology, skimage.feature\n",
    "%matplotlib inline"
   ]
  },
  {
   "cell_type": "markdown",
   "metadata": {},
   "source": [
    "Computes a homogeneous line vector from the $\\rho$, $\\theta$ parameters returned by SKImage's Hough transform"
   ]
  },
  {
   "cell_type": "code",
   "execution_count": 22,
   "metadata": {},
   "outputs": [],
   "source": [
    "def homline(rho, theta):\n",
    "    return [np.cos(theta), np.sin(theta), -rho]"
   ]
  },
  {
   "cell_type": "markdown",
   "metadata": {},
   "source": [
    "Returns intersection of two homogeneous lines"
   ]
  },
  {
   "cell_type": "markdown",
   "metadata": {},
   "source": [
    "**TODO:** Points at the infinity are not handled properly"
   ]
  },
  {
   "cell_type": "code",
   "execution_count": 23,
   "metadata": {},
   "outputs": [],
   "source": [
    "def homintersect(l1, l2):\n",
    "    p = np.cross(l1, l2)\n",
    "    p = p/p[2]\n",
    "    return p"
   ]
  },
  {
   "cell_type": "markdown",
   "metadata": {},
   "source": [
    "Produces an image of the same shape given as second parameter, representing the geometrical locus of the predicate in the first parameter: the image is 1 if the predicate holds, 0 otherwise."
   ]
  },
  {
   "cell_type": "code",
   "execution_count": 24,
   "metadata": {},
   "outputs": [],
   "source": [
    "def locus_imshape(pred, shape):\n",
    "    return np.array([[1.0 if pred(x, y) else 0.0 for x in range(0, shape[1])] for y in range(0, shape[0])])"
   ]
  },
  {
   "cell_type": "code",
   "execution_count": 25,
   "metadata": {},
   "outputs": [],
   "source": [
    "def find_table(pic):\n",
    "    hsvpic = skimage.color.rgb2hsv(pic)\n",
    "    bwpic = hsvpic[:,:,2]\n",
    "    bwpic = bwpic/np.max(bwpic)\n",
    "    \n",
    "    # The histogram should be somehow U-shaped, so the threshold is computed by taking\n",
    "    # density maximum above the mean, and then stepping back by a certain proportion of\n",
    "    # the standard deviation.\n",
    "    density, edges = np.histogram(bwpic.flat, bins = 40)\n",
    "    mean = np.mean(bwpic)\n",
    "    sigma = np.std(bwpic)\n",
    "    stepback = 0.5\n",
    "    split = np.searchsorted(edges, mean, side='right')\n",
    "    maxd = split + np.argmax(density[split:])\n",
    "    threshold = edges[maxd] - stepback*sigma\n",
    "    maskpic = bwpic > threshold\n",
    "    \n",
    "    # The largest connected region will be selected at the table.\n",
    "    # In order to disconnect nearby bright background region, Canny edges computed on\n",
    "    # the hue channel (hue is chosen because we already know there wasn't enough distance\n",
    "    # in brightness).\n",
    "    huepic = hsvpic[:,:,0]\n",
    "    cannyhue = skimage.feature.canny(huepic, sigma=8)\n",
    "    huemask = ~cannyhue & maskpic\n",
    "    labeledpic = skimage.measure.label(huemask)\n",
    "    largestmask = labeledpic == np.argmax(np.bincount(labeledpic.flat)[1:])+1\n",
    "    \n",
    "    # A closure is computed on the mask to clean out speckles and dirt. \n",
    "    disk = skimage.morphology.disk(8)\n",
    "    return skimage.morphology.binary_closing(largestmask, selem=disk)"
   ]
  },
  {
   "cell_type": "code",
   "execution_count": 26,
   "metadata": {},
   "outputs": [
    {
     "data": {
      "text/plain": [
       "<matplotlib.image.AxesImage at 0x7f75fcc1d240>"
      ]
     },
     "execution_count": 26,
     "metadata": {},
     "output_type": "execute_result"
    },
    {
     "data": {
      "image/png": "[encoded data removed]",
      "text/plain": [
       "<Figure size 432x288 with 1 Axes>"
      ]
     },
     "metadata": {
      "needs_background": "light"
     },
     "output_type": "display_data"
    }
   ],
   "source": [
    "pic = plt.imread(\"pics2/01_old.JPG\")\n",
    "\n",
    "tablemask = find_table(pic)\n",
    "cannypic = skimage.feature.canny(tablemask)\n",
    "plt.figure('canny')\n",
    "plt.imshow(cannypic)"
   ]
  },
  {
   "cell_type": "code",
   "execution_count": 27,
   "metadata": {},
   "outputs": [],
   "source": [
    "hres = skimage.transform.hough_line(cannypic)\n",
    "threshold = 0.1*np.max(hres[0])\n",
    "_, angles, dists = skimage.transform.hough_line_peaks(*hres, num_peaks=4, threshold=threshold, min_distance=100)\n",
    "\n",
    "lines = [homline(rho, theta) for rho, theta in zip(dists, angles)]\n",
    "assert(len(lines) == 4), f\"Should be 4 lines, not {len(lines)}!\""
   ]
  },
  {
   "cell_type": "markdown",
   "metadata": {},
   "source": [
    "Vanishing points are found by assuming that the lines with the closest angles are images of parallel lines."
   ]
  },
  {
   "cell_type": "markdown",
   "metadata": {},
   "source": [
    "**TODO:** Verify that the assumption is formally valid."
   ]
  },
  {
   "cell_type": "code",
   "execution_count": 28,
   "metadata": {},
   "outputs": [
    {
     "data": {
      "text/plain": [
       "array([[ 4.03377304e+03, -1.03233832e+03,  1.00000000e+00],\n",
       "       [-7.78844385e+02, -1.86022864e+03,  1.00000000e+00]])"
      ]
     },
     "execution_count": 28,
     "metadata": {},
     "output_type": "execute_result"
    },
    {
     "data": {
      "image/png": "[encoded data removed]",
      "text/plain": [
       "<Figure size 432x288 with 1 Axes>"
      ]
     },
     "metadata": {
      "needs_background": "light"
     },
     "output_type": "display_data"
    }
   ],
   "source": [
    "# The angle space should be continuous between -pi/2 and pi/2, so we throw the antipodal angles into the mix\n",
    "# The indices will be restored by modding by 4\n",
    "angles_xt = list(enumerate(np.concatenate((angles, angles+np.pi))))\n",
    "angle_cpls = [((i, x), (j, y)) for i, x in angles_xt for j, y in angles_xt if i<j]\n",
    "# The angles are the second elements of each (i, x) tuple in the couple\n",
    "mindstcpl = min(angle_cpls, key=lambda ix_jy: abs(ix_jy[0][1]-ix_jy[1][1]))\n",
    "par_idcs1 = [mindstcpl[0][0]%4, mindstcpl[1][0]%4]\n",
    "par_idcs2 = [i for i in range(4) if i not in par_idcs1]\n",
    "\n",
    "# Not very elegant, I know\n",
    "vp1 = homintersect(lines[par_idcs1[0]], lines[par_idcs1[1]])\n",
    "vp2 = homintersect(lines[par_idcs2[0]], lines[par_idcs2[1]])\n",
    "intersections = np.array([homintersect(lines[i], lines[j]) for i in par_idcs1 for j in par_idcs2])\n",
    "\n",
    "vps = np.array([vp1, vp2])\n",
    "\n",
    "plt.figure(\"points\")\n",
    "plt.imshow(pic)\n",
    "plt.plot(intersections[:,0], intersections[:,1], 'bo')\n",
    "plt.plot(vps[:, 0], vps[:, 1], 'ro')\n",
    "vps"
   ]
  },
  {
   "cell_type": "code",
   "execution_count": 29,
   "metadata": {},
   "outputs": [
    {
     "data": {
      "text/plain": [
       "'4033.7730433670504,-1032.3383217768444,1.0,-778.8443852094052,-1860.228639377915,1.0'"
      ]
     },
     "execution_count": 29,
     "metadata": {},
     "output_type": "execute_result"
    }
   ],
   "source": [
    "\",\".join(str(f) for f in vps.flat)"
   ]
  },
  {
   "cell_type": "code",
   "execution_count": 30,
   "metadata": {},
   "outputs": [
    {
     "data": {
      "text/plain": [
       "(array([ 781.89175419,  238.2424584 , 1009.14946991,  415.41149122]),\n",
       " array([158.43631953, 357.50994419, 452.37273568, 743.82366199]))"
      ]
     },
     "execution_count": 30,
     "metadata": {},
     "output_type": "execute_result"
    }
   ],
   "source": [
    "intersections[:,0], intersections[:,1]"
   ]
  },
  {
   "cell_type": "code",
   "execution_count": null,
   "metadata": {},
   "outputs": [],
   "source": []
  },
  {
   "cell_type": "code",
   "execution_count": null,
   "metadata": {},
   "outputs": [],
   "source": []
  }
 ],
 "metadata": {
  "kernelspec": {
   "display_name": "Python 3",
   "language": "python",
   "name": "python3"
  },
  "language_info": {
   "codemirror_mode": {
    "name": "ipython",
    "version": 3
   },
   "file_extension": ".py",
   "mimetype": "text/x-python",
   "name": "python",
   "nbconvert_exporter": "python",
   "pygments_lexer": "ipython3",
   "version": "3.7.1"
  }
 },
 "nbformat": 4,
 "nbformat_minor": 2
}
