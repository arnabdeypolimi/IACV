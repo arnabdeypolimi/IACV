{
 "cells": [
  {
   "cell_type": "code",
   "execution_count": null,
   "metadata": {},
   "outputs": [],
   "source": [
    "import numpy as np"
   ]
  },
  {
   "cell_type": "code",
   "execution_count": null,
   "metadata": {},
   "outputs": [],
   "source": [
    "with open(\"pics2/vps.csv\") as f:\n",
    "    vps = np.array([l.strip(\"\\n\").split(\",\") for l in f.readlines()]).astype(\"float\")\n",
    "vv1, vv2 = vps[:,:3], vps[:,3:]"
   ]
  },
  {
   "cell_type": "code",
   "execution_count": null,
   "metadata": {},
   "outputs": [],
   "source": [
    "def compute_ABCD_i(vpmi, vpni, vpm1, vpn1):\n",
    "    u_mi, v_mi = vpmi[0], vpmi[1]\n",
    "    u_ni, v_ni = vpni[0], vpni[1]\n",
    "    u_m1, v_m1 = vpm1[0], vpm1[1]\n",
    "    u_n1, v_n1 = vpn1[0], vpn1[1]\n",
    "    \n",
    "    A_i = u_mi - u_m1 + u_ni - u_n1\n",
    "    B_i = v_mi - v_m1 + v_ni - v_n1\n",
    "    C_i = v_m1*v_n1 - v_mi*v_ni\n",
    "    D_i = u_mi*u_ni - u_m1*u_n1\n",
    "    \n",
    "    return A_i, B_i, C_i, D_i"
   ]
  },
  {
   "cell_type": "code",
   "execution_count": null,
   "metadata": {},
   "outputs": [],
   "source": [
    "A = []\n",
    "b = []\n",
    "\n",
    "for i in range(1,4):\n",
    "    A_i, B_i, C_i, D_i = compute_ABCD_i(vv1[i], vv2[i], vv1[0], vv2[0])\n",
    "    A += [[A_i, B_i, C_i]]\n",
    "    b += [D_i]\n",
    "\n",
    "u_0, alpha2v_0, alpha2 = np.linalg.solve(A, b)\n",
    "alpha = np.sqrt(alpha2)\n",
    "v_0 = alpha2v_0/alpha2\n",
    "\n",
    "u_0, v_0, alpha"
   ]
  },
  {
   "cell_type": "code",
   "execution_count": null,
   "metadata": {},
   "outputs": [],
   "source": []
  }
 ],
 "metadata": {
  "kernelspec": {
   "display_name": "Python 3",
   "language": "python",
   "name": "python3"
  },
  "language_info": {
   "codemirror_mode": {
    "name": "ipython",
    "version": 3
   },
   "file_extension": ".py",
   "mimetype": "text/x-python",
   "name": "python",
   "nbconvert_exporter": "python",
   "pygments_lexer": "ipython3",
   "version": "3.7.2"
  }
 },
 "nbformat": 4,
 "nbformat_minor": 2
}
