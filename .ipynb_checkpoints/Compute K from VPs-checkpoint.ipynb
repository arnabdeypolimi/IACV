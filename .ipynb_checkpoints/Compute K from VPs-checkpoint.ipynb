{
 "cells": [
  {
   "cell_type": "code",
   "execution_count": null,
   "metadata": {},
   "outputs": [],
   "source": [
    "import numpy as np"
   ]
  },
  {
   "cell_type": "markdown",
   "metadata": {},
   "source": [
    "Coefficients are calculated in the notebook \"Compute linear system coefficients for omega\""
   ]
  },
  {
   "cell_type": "code",
   "execution_count": null,
   "metadata": {},
   "outputs": [],
   "source": [
    "def K_from_vps(vv1, vv2):\n",
    "    assert (len(vv1) == 4 and len(vv2) == 4), \"Length of vv1 and vv2 must be 4!\"\n",
    "    A = []\n",
    "    b = []\n",
    "    for i in range(len(vv1)):\n",
    "        A += [[vv1[i][0]*vv2[i][0],\n",
    "               vv1[i][0]*vv2[i][2] + vv1[i][2]*vv2[i][0],\n",
    "               vv1[i][1]*vv2[i][2] + vv1[i][2]*vv2[i][1],\n",
    "               vv1[i][1]*vv2[i][1]],\n",
    "               vv1[i][2]*vv2[i][2]]\n",
    "    w = np.linalg.lstsq(A, np.zeros(1, 5))\n",
    "    \n",
    "    # Since the system is underdetermined, we expect more than a solution; the first is taken\n",
    "    if len(w.shape) != 1:\n",
    "        w = w[0]\n",
    "    \n",
    "    W = [[w[0],  0,   w[1]],\n",
    "         [ 0,  w[3],  w[2]],\n",
    "         [w[1], w[2], w[4]]]\n",
    "    K = np.array(W).H\n",
    "    return K"
   ]
  },
  {
   "cell_type": "markdown",
   "metadata": {},
   "source": [
    "**TODO:** Test this with ground truth data"
   ]
  }
 ],
 "metadata": {
  "kernelspec": {
   "display_name": "Python 3",
   "language": "python",
   "name": "python3"
  },
  "language_info": {
   "codemirror_mode": {
    "name": "ipython",
    "version": 3
   },
   "file_extension": ".py",
   "mimetype": "text/x-python",
   "name": "python",
   "nbconvert_exporter": "python",
   "pygments_lexer": "ipython3",
   "version": "3.7.2"
  }
 },
 "nbformat": 4,
 "nbformat_minor": 2
}
