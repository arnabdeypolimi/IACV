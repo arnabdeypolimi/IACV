{
 "cells": [
  {
   "cell_type": "code",
   "execution_count": null,
   "metadata": {},
   "outputs": [],
   "source": [
    "from matplotlib import pyplot as plt\n",
    "import numpy as np\n",
    "import skimage, skimage.morphology, skimage.feature\n",
    "%matplotlib inline"
   ]
  },
  {
   "cell_type": "markdown",
   "metadata": {},
   "source": [
    "Computes a homogeneous line vector from the $\\rho$, $\\theta$ parameters returned by SKImage's Hough transform"
   ]
  },
  {
   "cell_type": "code",
   "execution_count": null,
   "metadata": {},
   "outputs": [],
   "source": [
    "def homline(rho, theta):\n",
    "    return [np.cos(theta), np.sin(theta), -rho]"
   ]
  },
  {
   "cell_type": "markdown",
   "metadata": {},
   "source": [
    "Returns intersection of two homogeneous lines"
   ]
  },
  {
   "cell_type": "markdown",
   "metadata": {},
   "source": [
    "**TODO:** Points at the infinity are not handled properly"
   ]
  },
  {
   "cell_type": "code",
   "execution_count": null,
   "metadata": {},
   "outputs": [],
   "source": [
    "def homintersect(l1, l2):\n",
    "    p = np.cross(l1, l2)\n",
    "    p = p/p[2]\n",
    "    return p"
   ]
  },
  {
   "cell_type": "markdown",
   "metadata": {},
   "source": [
    "Produces an image of the same shape given as second parameter, representing the geometrical locus of the predicate in the first parameter: the image is 1 if the predicate holds, 0 otherwise."
   ]
  },
  {
   "cell_type": "code",
   "execution_count": null,
   "metadata": {},
   "outputs": [],
   "source": [
    "def locus_imshape(pred, shape):\n",
    "    return np.array([[1.0 if pred(x, y) else 0.0 for x in range(0, shape[1])] for y in range(0, shape[0])])"
   ]
  },
  {
   "cell_type": "code",
<<<<<<< HEAD
   "execution_count": null,
=======
   "execution_count": 5,
>>>>>>> 77b683dc69bc72c98cdf5e3d35a09c65dd6e7f2f
   "metadata": {},
   "outputs": [],
   "source": [
    "def find_table(pic):\n",
    "    hsvpic = skimage.color.rgb2hsv(pic)\n",
    "    bwpic = hsvpic[:,:,2]\n",
    "    bwpic = bwpic/np.max(bwpic)\n",
    "    \n",
    "    # The histogram should be somehow U-shaped, so the threshold is computed by taking\n",
    "    # density maximum above the mean, and then stepping back by a certain proportion of\n",
    "    # the standard deviation.\n",
    "    density, edges = np.histogram(bwpic.flat, bins = 40)\n",
    "    mean = np.mean(bwpic)\n",
    "    sigma = np.std(bwpic)\n",
    "    stepback = 0.5\n",
    "    split = np.searchsorted(edges, mean, side='right')\n",
    "    maxd = split + np.argmax(density[split:])\n",
    "    threshold = edges[maxd] - stepback*sigma\n",
    "    maskpic = bwpic > threshold\n",
    "    \n",
    "    # The largest connected region will be selected at the table.\n",
    "    # In order to disconnect nearby bright background region, Canny edges computed on\n",
    "    # the hue channel (hue is chosen because we already know there wasn't enough distance\n",
    "    # in brightness).\n",
    "    huepic = hsvpic[:,:,0]\n",
    "    cannyhue = skimage.feature.canny(huepic, sigma=8)\n",
    "    huemask = ~cannyhue & maskpic\n",
    "    labeledpic = skimage.measure.label(huemask)\n",
    "    largestmask = labeledpic == np.argmax(np.bincount(labeledpic.flat)[1:])+1\n",
    "    \n",
    "    # A closure is computed on the mask to clean out speckles and dirt. \n",
    "    disk = skimage.morphology.disk(8)\n",
    "    return skimage.morphology.binary_closing(largestmask, selem=disk)"
   ]
  },
  {
   "cell_type": "code",
<<<<<<< HEAD
   "execution_count": null,
   "metadata": {},
   "outputs": [],
   "source": [
    "pic = plt.imread(\"renderpics/4.JPG\")\n",
    "\n",
=======
   "execution_count": 6,
   "metadata": {},
   "outputs": [
    {
     "name": "stderr",
     "output_type": "stream",
     "text": [
      "/home/arnab/anaconda3/lib/python3.7/site-packages/skimage/color/colorconv.py:275: RuntimeWarning: divide by zero encountered in true_divide\n",
      "  out[idx, 0] = (arr[idx, 1] - arr[idx, 2]) / delta[idx]\n",
      "/home/arnab/anaconda3/lib/python3.7/site-packages/skimage/color/colorconv.py:279: RuntimeWarning: divide by zero encountered in true_divide\n",
      "  out[idx, 0] = 2. + (arr[idx, 2] - arr[idx, 0]) / delta[idx]\n",
      "/home/arnab/anaconda3/lib/python3.7/site-packages/skimage/color/colorconv.py:283: RuntimeWarning: divide by zero encountered in true_divide\n",
      "  out[idx, 0] = 4. + (arr[idx, 0] - arr[idx, 1]) / delta[idx]\n"
     ]
    },
    {
     "data": {
      "text/plain": [
       "<matplotlib.image.AxesImage at 0x7f1363d6ec88>"
      ]
     },
     "execution_count": 6,
     "metadata": {},
     "output_type": "execute_result"
    },
    {
     "data": {
      "image/png": "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\n",
      "text/plain": [
       "<Figure size 432x288 with 1 Axes>"
      ]
     },
     "metadata": {
      "needs_background": "light"
     },
     "output_type": "display_data"
    }
   ],
   "source": [
    "pic = plt.imread(\"pics2/01.JPG\")\n",
>>>>>>> 77b683dc69bc72c98cdf5e3d35a09c65dd6e7f2f
    "tablemask = find_table(pic)\n",
    "cannypic = skimage.feature.canny(tablemask)\n",
    "plt.figure('canny')\n",
    "plt.imshow(cannypic)"
   ]
  },
  {
   "cell_type": "code",
<<<<<<< HEAD
   "execution_count": null,
=======
   "execution_count": 7,
>>>>>>> 77b683dc69bc72c98cdf5e3d35a09c65dd6e7f2f
   "metadata": {},
   "outputs": [],
   "source": [
    "hres = skimage.transform.hough_line(cannypic)\n",
    "threshold = 0.1*np.max(hres[0])\n",
    "_, angles, dists = skimage.transform.hough_line_peaks(*hres, num_peaks=4, threshold=threshold, min_distance=100)\n",
    "\n",
    "lines = [homline(rho, theta) for rho, theta in zip(dists, angles)]\n",
    "assert(len(lines) == 4), f\"Should be 4 lines, not {len(lines)}!\""
   ]
  },
  {
   "cell_type": "markdown",
   "metadata": {},
   "source": [
    "Vanishing points are found by assuming that the lines with the closest angles are images of parallel lines."
   ]
  },
  {
   "cell_type": "markdown",
   "metadata": {},
   "source": [
    "**TODO:** Verify that the assumption is formally valid."
   ]
  },
  {
   "cell_type": "code",
<<<<<<< HEAD
   "execution_count": null,
   "metadata": {},
   "outputs": [],
=======
   "execution_count": 8,
   "metadata": {},
   "outputs": [
    {
     "data": {
      "text/plain": [
       "array([[ 8.63669327e+03, -1.43003897e+03,  1.00000000e+00],\n",
       "       [-4.12233387e+01, -1.65802744e+03,  1.00000000e+00]])"
      ]
     },
     "execution_count": 8,
     "metadata": {},
     "output_type": "execute_result"
    },
    {
     "data": {
      "image/png": "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\n",
      "text/plain": [
       "<Figure size 432x288 with 1 Axes>"
      ]
     },
     "metadata": {
      "needs_background": "light"
     },
     "output_type": "display_data"
    }
   ],
>>>>>>> 77b683dc69bc72c98cdf5e3d35a09c65dd6e7f2f
   "source": [
    "# The angle space should be continuous between -pi/2 and pi/2, so we throw the antipodal angles into the mix\n",
    "# The indices will be restored by modding by 4\n",
    "angles_xt = list(enumerate(np.concatenate((angles, angles+np.pi))))\n",
    "angle_cpls = [((i, x), (j, y)) for i, x in angles_xt for j, y in angles_xt if i<j]\n",
    "# The angles are the second elements of each (i, x) tuple in the couple\n",
    "mindstcpl = min(angle_cpls, key=lambda ix_jy: abs(ix_jy[0][1]-ix_jy[1][1]))\n",
    "par_idcs1 = [mindstcpl[0][0]%4, mindstcpl[1][0]%4]\n",
    "par_idcs2 = [i for i in range(4) if i not in par_idcs1]\n",
    "\n",
    "# Not very elegant, I know\n",
    "vp1 = homintersect(lines[par_idcs1[0]], lines[par_idcs1[1]])\n",
    "vp2 = homintersect(lines[par_idcs2[0]], lines[par_idcs2[1]])\n",
    "intersections = np.array([homintersect(lines[i], lines[j]) for i in par_idcs1 for j in par_idcs2])\n",
    "\n",
    "vps = np.array([vp1, vp2])\n",
    "\n",
    "plt.figure(\"points\")\n",
    "plt.imshow(pic)\n",
    "plt.plot(intersections[:,0], intersections[:,1], 'bo')\n",
    "plt.plot(vps[:, 0], vps[:, 1], 'ro')\n",
    "vps"
   ]
  },
  {
   "cell_type": "code",
   "execution_count": null,
   "metadata": {},
   "outputs": [],
<<<<<<< HEAD
   "source": [
    "\",\".join(str(f) for f in vps.flat)"
   ]
=======
   "source": []
  },
  {
   "cell_type": "code",
   "execution_count": null,
   "metadata": {},
   "outputs": [],
   "source": []
>>>>>>> 77b683dc69bc72c98cdf5e3d35a09c65dd6e7f2f
  },
  {
   "cell_type": "code",
   "execution_count": null,
   "metadata": {},
   "outputs": [],
   "source": []
  }
 ],
 "metadata": {
  "kernelspec": {
   "display_name": "Python 3",
   "language": "python",
   "name": "python3"
  },
  "language_info": {
   "codemirror_mode": {
    "name": "ipython",
    "version": 3
   },
   "file_extension": ".py",
   "mimetype": "text/x-python",
   "name": "python",
   "nbconvert_exporter": "python",
   "pygments_lexer": "ipython3",
   "version": "3.7.1"
  }
 },
 "nbformat": 4,
 "nbformat_minor": 2
}
