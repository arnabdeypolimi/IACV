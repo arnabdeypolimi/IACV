{
 "cells": [
  {
   "cell_type": "code",
   "execution_count": 32,
   "metadata": {},
   "outputs": [],
   "source": [
    "import numpy as np"
   ]
  },
  {
   "cell_type": "code",
   "execution_count": 33,
   "metadata": {},
   "outputs": [],
   "source": [
    "with open(\"pics2/vps1.csv\") as f:\n",
    "    vps = np.array([l.strip(\"\\n\").split(\",\") for l in f.readlines()]).astype(\"float\")\n",
    "vv1, vv2 = vps[:,:3], vps[:,3:]"
   ]
  },
  {
   "cell_type": "code",
   "execution_count": 34,
   "metadata": {},
   "outputs": [],
   "source": [
    "def compute_ABCD_i(vpmi, vpni, vpm1, vpn1):\n",
    "    u_mi, v_mi = vpmi[0], vpmi[1]\n",
    "    u_ni, v_ni = vpni[0], vpni[1]\n",
    "    u_m1, v_m1 = vpm1[0], vpm1[1]\n",
    "    u_n1, v_n1 = vpn1[0], vpn1[1]\n",
    "    \n",
    "    A_i = u_mi - u_m1 + u_ni - u_n1\n",
    "    B_i = v_mi - v_m1 + v_ni - v_n1\n",
    "    C_i = v_m1*v_n1 - v_mi*v_ni\n",
    "    D_i = u_mi*u_ni - u_m1*u_n1\n",
    "    \n",
    "    return A_i, B_i, C_i, D_i"
   ]
  },
  {
   "cell_type": "code",
   "execution_count": 35,
   "metadata": {},
   "outputs": [],
   "source": [
    "A = []\n",
    "b = []\n",
    "\n",
    "for i in range(1,9):\n",
    "    A_i, B_i, C_i, D_i = compute_ABCD_i(vv1[i], vv2[i], vv1[0], vv2[0])\n",
    "    A += [[A_i, B_i, C_i]]\n",
    "    b += [D_i]\n",
    "\n",
    "a = np.linalg.lstsq(A, b,rcond=-1)\n",
    "alpha = np.sqrt(a[0][2])\n",
    "v_0 = a[0][1]/alpha\n",
    "u_0=a[0][0]"
   ]
  },
  {
   "cell_type": "code",
   "execution_count": 36,
   "metadata": {},
   "outputs": [
    {
     "data": {
      "text/plain": [
       "(1.2847440118964129, -329.832583952195, 649.6175363760744)"
      ]
     },
     "execution_count": 36,
     "metadata": {},
     "output_type": "execute_result"
    }
   ],
   "source": [
    "alpha, v_0, u_0"
   ]
  },
  {
   "cell_type": "code",
   "execution_count": 39,
   "metadata": {},
   "outputs": [],
   "source": [
    "f=0-((v_0-vv1[6][1])*(v_0-vv2[6][1]))-(1/a[0][2])*(vv1[6][0]-u_0)*(vv2[6][0]-u_0)"
   ]
  },
  {
   "cell_type": "code",
   "execution_count": 40,
   "metadata": {},
   "outputs": [
    {
     "data": {
      "text/plain": [
       "(array([ 4.03377304e+03, -1.03233832e+03,  1.00000000e+00]),\n",
       " array([-7.78844385e+02, -1.86022864e+03,  1.00000000e+00]),\n",
       " 1823346.6261979938)"
      ]
     },
     "execution_count": 40,
     "metadata": {},
     "output_type": "execute_result"
    }
   ],
   "source": [
    "vv1[0], vv2[0], f"
   ]
  },
  {
   "cell_type": "code",
   "execution_count": 42,
   "metadata": {},
   "outputs": [
    {
     "data": {
      "text/plain": [
       "(array([ 3.20150216e+03, -2.35707346e+03,  2.46803149e+00]),\n",
       " array([], dtype=float64),\n",
       " 3,\n",
       " array([1.17078919e+07, 2.25331832e+04, 4.24930316e+02]))"
      ]
     },
     "execution_count": 42,
     "metadata": {},
     "output_type": "execute_result"
    }
   ],
   "source": []
  },
  {
   "cell_type": "code",
   "execution_count": null,
   "metadata": {},
   "outputs": [],
   "source": []
  }
 ],
 "metadata": {
  "kernelspec": {
   "display_name": "Python 3",
   "language": "python",
   "name": "python3"
  },
  "language_info": {
   "codemirror_mode": {
    "name": "ipython",
    "version": 3
   },
   "file_extension": ".py",
   "mimetype": "text/x-python",
   "name": "python",
   "nbconvert_exporter": "python",
   "pygments_lexer": "ipython3",
   "version": "3.7.1"
  }
 },
 "nbformat": 4,
 "nbformat_minor": 2
}
