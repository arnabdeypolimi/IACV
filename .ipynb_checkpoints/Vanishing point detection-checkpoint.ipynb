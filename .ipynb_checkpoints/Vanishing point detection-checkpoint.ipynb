{
 "cells": [
  {
   "cell_type": "code",
   "execution_count": null,
   "metadata": {},
   "outputs": [],
   "source": [
    "from matplotlib import pyplot as plt\n",
    "import numpy as np\n",
    "import skimage\n",
    "%matplotlib inline"
   ]
  },
  {
   "cell_type": "markdown",
   "metadata": {},
   "source": [
    "Computes a homogeneous line vector from the $\\rho$, $\\theta$ parameters returned by SKImage's Hough transform"
   ]
  },
  {
   "cell_type": "code",
   "execution_count": null,
   "metadata": {},
   "outputs": [],
   "source": [
    "def homline(rho, theta):\n",
    "    return [np.cos(theta), np.sin(theta), -rho]"
   ]
  },
  {
   "cell_type": "markdown",
   "metadata": {},
   "source": [
    "Returns intersection of two homogeneous lines"
   ]
  },
  {
   "cell_type": "code",
   "execution_count": null,
   "metadata": {},
   "outputs": [],
   "source": [
    "def homintersect(l1, l2):\n",
    "    p = np.cross(l1, l2)\n",
    "    p = p/p[2]\n",
    "    return p"
   ]
  },
  {
   "cell_type": "markdown",
   "metadata": {},
   "source": [
    "Produces an image of the same shape given as second parameter, representing the geometrical locus of the predicate in the first parameter: the image is 1 if the predicate holds, 0 otherwise."
   ]
  },
  {
   "cell_type": "code",
   "execution_count": null,
   "metadata": {},
   "outputs": [],
   "source": [
    "def locus_imshape(pred, shape):\n",
    "    return np.array([[1.0 if pred(x, y) else 0.0 for x in range(0, shape[1])] for y in range(0, shape[0])])"
   ]
  },
  {
   "cell_type": "markdown",
   "metadata": {},
   "source": [
    "`bwpic` is the B/W version of the analysed picture"
   ]
  },
  {
   "cell_type": "code",
   "execution_count": null,
   "metadata": {
    "scrolled": true
   },
   "outputs": [],
   "source": [
    "pic = plt.imread(\"pics/3.JPG\")\n",
    "bwpic = np.linalg.norm(pic, axis=2)\n",
    "bwpic = bwpic/np.max(bwpic)\n",
    "maskpic = skimage.morphology.binary_dilation(bwpic > 0.8)\n",
    "maskpic = skimage.morphology.binary_dilation(maskpic)"
   ]
  },
  {
   "cell_type": "markdown",
   "metadata": {},
   "source": [
    "A histogram is temporarily used to find a good threshold for the table surface"
   ]
  },
  {
   "cell_type": "code",
   "execution_count": null,
   "metadata": {
    "scrolled": true
   },
   "outputs": [],
   "source": [
    "plt.figure(\"hist\")\n",
    "_ = plt.hist(bwpic.flatten())"
   ]
  },
  {
   "cell_type": "code",
   "execution_count": null,
   "metadata": {},
   "outputs": [],
   "source": [
    "cannypic = skimage.feature.canny(maskpic)\n",
    "plt.figure('canny')\n",
    "plt.imshow(cannypic)"
   ]
  },
  {
   "cell_type": "code",
   "execution_count": null,
   "metadata": {},
   "outputs": [],
   "source": [
    "hres = skimage.transform.hough_line(cannypic)\n",
    "threshold = 0.3*np.max(hres[0])\n",
    "_, angles, dists = skimage.transform.hough_line_peaks(*hres, num_peaks=4, threshold=threshold, min_distance=20)\n",
    "\n",
    "lines = [homline(rho, theta) for rho, theta in zip(dists, angles)]\n",
    "intersections = np.array([homintersect(l1, l2) for i, l1 in enumerate(lines) for j, l2 in enumerate(lines) if i < j])"
   ]
  },
  {
   "cell_type": "markdown",
   "metadata": {},
   "source": [
    "Vanishing points are recognized by matching the intersections against the mask."
   ]
  },
  {
   "cell_type": "code",
   "execution_count": null,
   "metadata": {
    "scrolled": false
   },
   "outputs": [],
   "source": [
    "def in_shape(i, j, shape):\n",
    "    return i >= 0 and j >= 0 and i < shape[0] and j < shape[1]\n",
    "\n",
    "dilmask = skimage.morphology.binary_dilation(maskpic)\n",
    "dilmask = skimage.morphology.binary_dilation(dilmask)\n",
    "\n",
    "vps = np.array([[x, y, 1] for x, y, _ in intersections if not in_shape(y, x, dilmask.shape) or not dilmask[int(y)][int(x)]])\n",
    "\n",
    "plt.figure(\"points\")\n",
    "plt.imshow(pic)\n",
    "plt.plot(intersections[:,0], intersections[:,1], 'bo')\n",
    "plt.plot(vps[:, 0], vps[:, 1], 'ro')"
   ]
  }
 ],
 "metadata": {
  "kernelspec": {
   "display_name": "Python 3",
   "language": "python",
   "name": "python3"
  },
  "language_info": {
   "codemirror_mode": {
    "name": "ipython",
    "version": 3
   },
   "file_extension": ".py",
   "mimetype": "text/x-python",
   "name": "python",
   "nbconvert_exporter": "python",
   "pygments_lexer": "ipython3",
   "version": "3.7.2"
  }
 },
 "nbformat": 4,
 "nbformat_minor": 2
}
