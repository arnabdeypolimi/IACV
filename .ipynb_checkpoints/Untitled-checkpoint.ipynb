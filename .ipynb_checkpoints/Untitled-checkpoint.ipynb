{
 "cells": [
  {
   "cell_type": "code",
   "execution_count": null,
   "metadata": {},
   "outputs": [],
   "source": [
    "import matplotlib.pyplot as plt\n",
    "import numpy as np\n",
    "import skimage, skimage.segmentation\n",
    "from skimage import data, segmentation, color \n",
    "from skimage.future import graph\n",
    "from skimage.transform import resize, downscale_local_mean\n",
    "%matplotlib inline"
   ]
  },
  {
   "cell_type": "code",
   "execution_count": null,
   "metadata": {},
   "outputs": [],
   "source": [
    "img = plt.imread(\"pics2/3.JPG\")\n",
    "plt.figure(\"table\")\n",
    "plt.imshow(img)\n",
    "image_resized = resize(img, (img.shape[0] / 4, img.shape[1] / 4),\n",
    "                       anti_aliasing=True)\n",
    "plt.figure(\"resize\")\n",
    "plt.imshow(image_resized)"
   ]
  },
  {
   "cell_type": "code",
   "execution_count": null,
   "metadata": {},
   "outputs": [],
   "source": [
    "labels1 = segmentation.slic(img, compactness=10, n_segments=100,convert2lab=True)\n",
    "\n",
    "g = graph.rag_mean_color(img, labels1, mode='similarity')\n",
    "labels2 = graph.cut_normalized(labels1, g)\n",
    "out2 = color.label2rgb(labels2, img, kind='avg')\n",
    "\n",
    "plt.figure, plt.imshow(out2)"
   ]
  },
  {
   "cell_type": "code",
   "execution_count": null,
   "metadata": {},
   "outputs": [],
   "source": [
    "table_hsv = skimage.color.rgb2hsv(tablepic)\n",
    "table_contours = sum(skimage.segmentation.inverse_gaussian_gradient(table_hsv[:,:,i]) for i in range(3))\n",
    "plt.figure(\"contours\")\n",
    "plt.imshow(table_contours)"
   ]
  },
  {
   "cell_type": "code",
   "execution_count": null,
   "metadata": {},
   "outputs": [],
   "source": [
    "%time table_seg = skimage.segmentation.morphological_geodesic_active_contour(table_contours, 50)\n",
    "plt.figure(\"MGAC\")\n",
    "plt.imshow(table_seg)"
   ]
  },
  {
   "cell_type": "code",
   "execution_count": null,
   "metadata": {},
   "outputs": [],
   "source": [
    "\n"
   ]
  },
  {
   "cell_type": "code",
   "execution_count": null,
   "metadata": {},
   "outputs": [],
   "source": []
  }
 ],
 "metadata": {
  "kernelspec": {
   "display_name": "Python 3",
   "language": "python",
   "name": "python3"
  },
  "language_info": {
   "codemirror_mode": {
    "name": "ipython",
    "version": 3
   },
   "file_extension": ".py",
   "mimetype": "text/x-python",
   "name": "python",
   "nbconvert_exporter": "python",
   "pygments_lexer": "ipython3",
   "version": "3.7.1"
  }
 },
 "nbformat": 4,
 "nbformat_minor": 2
}
