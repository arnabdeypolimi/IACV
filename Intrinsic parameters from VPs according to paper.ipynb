{
 "cells": [
  {
   "cell_type": "code",
   "execution_count": 14,
   "metadata": {},
   "outputs": [],
   "source": [
    "import numpy as np"
   ]
  },
  {
   "cell_type": "code",
   "execution_count": 15,
   "metadata": {},
   "outputs": [],
   "source": [
    "def norm_coordinates(v, normf):\n",
    "    res = np.copy(v)\n",
    "    res[0:2] = res[0:2]/normf\n",
    "    return res"
   ]
  },
  {
   "cell_type": "code",
   "execution_count": 16,
   "metadata": {},
   "outputs": [],
   "source": [
    "def norm_coordinates_multi(vs, normf):\n",
    "    res = np.copy(vs)\n",
    "    res[:, 0:2] = res[:, 0:2]/normf\n",
    "    return res"
   ]
  },
  {
   "cell_type": "code",
   "execution_count": 17,
   "metadata": {},
   "outputs": [],
   "source": [
    "def hom2eucl_multi(vs):\n",
    "    assert(0 not in vs[:,2]), \"None of the points must be at infinity!\"\n",
    "    return vs[:,0:2]/vs[:,2][:,None]"
   ]
  },
  {
   "cell_type": "code",
   "execution_count": 18,
   "metadata": {},
   "outputs": [],
   "source": [
    "with open(\"checkers_fullsize/outs.csv\") as inf:\n",
    "    inrows = np.array([l.split(\",\") for l in inf.read().splitlines()]).astype(\"float\")\n",
    "vpxs, vpys, As, Bs, Cs, centers = inrows.reshape((12, -1, 3)).swapaxes(0,1)\n",
    "normf = 1000\n",
    "vpxs_en, vpys_en = norm_coordinates_multi(hom2eucl_multi(vpxs), normf), norm_coordinates_multi(hom2eucl_multi(vpys), normf)"
   ]
  },
  {
   "cell_type": "code",
   "execution_count": 19,
   "metadata": {},
   "outputs": [],
   "source": [
    "# vpxs and vpys are (n,2)-arrays with one entry for each of the n pictures.\n",
    "# Entries *must* be in Euclidean coordinates!\n",
    "def compute_intrinsics_from_vps(vpxs, vpys):\n",
    "    def compute_ABCD_i(vpmi, vpni, vpm1, vpn1):\n",
    "        u_mi, v_mi = vpmi[0], vpmi[1]\n",
    "        u_ni, v_ni = vpni[0], vpni[1]\n",
    "        u_m1, v_m1 = vpm1[0], vpm1[1]\n",
    "        u_n1, v_n1 = vpn1[0], vpn1[1]\n",
    "\n",
    "        A_i = u_mi - u_m1 + u_ni - u_n1\n",
    "        B_i = v_mi - v_m1 + v_ni - v_n1\n",
    "        C_i = v_m1*v_n1 - v_mi*v_ni\n",
    "        D_i = u_mi*u_ni - u_m1*u_n1\n",
    "        return A_i, B_i, C_i, D_i\n",
    "    A = []\n",
    "    b = []\n",
    "    vpx_0, vpy_0 = vpxs[0], vpys[0]\n",
    "    for vpx, vpy in zip(vpxs[1:], vpys[1:]):\n",
    "        A_i, B_i, C_i, D_i = compute_ABCD_i(vpx, vpy, vpx_0, vpy_0)\n",
    "        A += [[A_i, B_i, C_i]]\n",
    "        b += [D_i]\n",
    "    u_0, alpha2v_0, alpha2 = np.linalg.lstsq(A, b,rcond=-1)[0]\n",
    "    alpha = np.sqrt(alpha2)\n",
    "    v_0 = alpha2v_0/alpha\n",
    "    f = 0-((v_0 - vpx_0[1])*(v_0-vpy_0[1]))-(1/alpha2)*(vpx_0[0]-u_0)*(vpy_0[0]-u_0)\n",
    "    return [u_0, v_0], alpha, f"
   ]
  },
  {
   "cell_type": "code",
   "execution_count": 20,
   "metadata": {},
   "outputs": [
    {
     "data": {
      "text/plain": [
       "([1.70552418744573, -1.1738396991609852],\n",
       " 1.3587999182314354,\n",
       " 12.103844935135335)"
      ]
     },
     "execution_count": 20,
     "metadata": {},
     "output_type": "execute_result"
    }
   ],
   "source": [
    "compute_intrinsics_from_vps(vpxs_en, vpys_en)"
   ]
  },
  {
   "cell_type": "code",
   "execution_count": null,
   "metadata": {},
   "outputs": [],
   "source": []
  }
 ],
 "metadata": {
  "kernelspec": {
   "display_name": "Python 3",
   "language": "python",
   "name": "python3"
  },
  "language_info": {
   "codemirror_mode": {
    "name": "ipython",
    "version": 3
   },
   "file_extension": ".py",
   "mimetype": "text/x-python",
   "name": "python",
   "nbconvert_exporter": "python",
   "pygments_lexer": "ipython3",
   "version": "3.7.2"
  }
 },
 "nbformat": 4,
 "nbformat_minor": 2
}
