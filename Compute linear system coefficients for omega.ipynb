{
 "cells": [
  {
   "cell_type": "code",
   "execution_count": 1,
   "metadata": {},
   "outputs": [],
   "source": [
    "from sympy import *\n",
    "init_printing(use_unicode=True)"
   ]
  },
  {
   "cell_type": "markdown",
   "metadata": {},
   "source": [
    "The $K$ we seek is the upper-triangular matrix in the Cholesky decomposition of $\\omega$; but we also know that the principal point, the last column of $K$, is a proper point, so we can verify that $\\omega_{3,3}$ must be non-zero.\n",
    "\n",
    "$$\n",
    "\\left(\\begin{array}{c c c c}\n",
    "A^T & 0 \\\\\n",
    "p_{1,2}^T & p_3\n",
    "\\end{array}\\right)\n",
    "\\left(\\begin{array}{c c c c}\n",
    "A & p_{1,2} \\\\\n",
    "0 & p_3\n",
    "\\end{array}\\right)\n",
    "=\n",
    "\\left(\\begin{array}{c c c c}\n",
    "A^T A & A^T p_{1,2} \\\\\n",
    "p_{1,2}^T A & p_1^2 + p_2^2 +  p_3^2\n",
    "\\end{array}\\right)\n",
    "$$\n",
    "\n",
    "We can see that $\\omega_{3,3} \\geq p_3^2 \\gt 0$, so we can take it to be $1$."
   ]
  },
  {
   "cell_type": "code",
   "execution_count": 2,
   "metadata": {},
   "outputs": [
    {
     "data": {
      "text/latex": [
       "$$\\left[\\begin{matrix}\\omega_{0} & 0 & \\omega_{1}\\\\0 & \\omega_{3} & \\omega_{2}\\\\\\omega_{1} & \\omega_{2} & 1\\end{matrix}\\right]$$"
      ],
      "text/plain": [
       "⎡ω₀  0   ω₁⎤\n",
       "⎢          ⎥\n",
       "⎢0   ω₃  ω₂⎥\n",
       "⎢          ⎥\n",
       "⎣ω₁  ω₂  1 ⎦"
      ]
     },
     "execution_count": 2,
     "metadata": {},
     "output_type": "execute_result"
    }
   ],
   "source": [
    "v1 = Matrix(symbols(\"vv1[i][0] vv1[i][1] vv1[i][2]\"))\n",
    "v2 = Matrix(symbols(\"vv2[i][0] vv2[i][1] vv2[i][2]\"))\n",
    "w = symbols(\"omega_0 omega_1 omega_2 omega_3\")\n",
    "W = Matrix([[w[0],  0,   w[1]],\n",
    "            [ 0,  w[3],  w[2]],\n",
    "            [w[1], w[2],  1 ]])\n",
    "W"
   ]
  },
  {
   "cell_type": "code",
   "execution_count": 3,
   "metadata": {},
   "outputs": [
    {
     "data": {
      "text/plain": [
       "'omega_0*vv1[i][0]*vv2[i][0] + omega_1*(vv1[i][0]*vv2[i][2] + vv1[i][2]*vv2[i][0]) + omega_2*(vv1[i][1]*vv2[i][2] + vv1[i][2]*vv2[i][1]) + omega_3*vv1[i][1]*vv2[i][1] + vv1[i][2]*vv2[i][2]'"
      ]
     },
     "execution_count": 3,
     "metadata": {},
     "output_type": "execute_result"
    }
   ],
   "source": [
    "p = v1.T*W*v2\n",
    "str(collect(expand(p[0]), w))"
   ]
  },
  {
   "cell_type": "code",
   "execution_count": null,
   "metadata": {},
   "outputs": [],
   "source": []
  }
 ],
 "metadata": {
  "kernelspec": {
   "display_name": "Python 3",
   "language": "python",
   "name": "python3"
  },
  "language_info": {
   "codemirror_mode": {
    "name": "ipython",
    "version": 3
   },
   "file_extension": ".py",
   "mimetype": "text/x-python",
   "name": "python",
   "nbconvert_exporter": "python",
   "pygments_lexer": "ipython3",
   "version": "3.7.2"
  }
 },
 "nbformat": 4,
 "nbformat_minor": 2
}
