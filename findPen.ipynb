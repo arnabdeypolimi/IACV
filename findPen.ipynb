{
 "cells": [
  {
   "cell_type": "code",
   "execution_count": 1,
   "metadata": {},
   "outputs": [],
   "source": [
    "from matplotlib import pyplot as plt\n",
    "import numpy as np\n",
    "import skimage, skimage.morphology, skimage.feature\n",
    "from skimage.color import rgb2gray\n",
    "from skimage import exposure\n",
    "from skimage.segmentation import random_walker\n",
    "%matplotlib inline"
   ]
  },
  {
   "cell_type": "code",
   "execution_count": 2,
   "metadata": {},
   "outputs": [],
   "source": [
    "def find_table(pic, cannysigma=8, closure=8, threshold_stepback=1):\n",
    "    hsvpic = skimage.color.rgb2hsv(pic)\n",
    "    bwpic = hsvpic[:,:,2]\n",
    "    satpic = hsvpic[:,:,1]\n",
    "    # White is high-valued and low-saturated, so whiteness of colors is taken to be\n",
    "    # directly correlated with value and inversely with saturation.\n",
    "    whitepic = bwpic - satpic\n",
    "    \n",
    "    # The histogram should be somehow U-shaped, so the threshold is computed by taking\n",
    "    # density maximum above the antimode, and then stepping back by a certain proportion\n",
    "    # of the standard deviation.\n",
    "    density, edges = np.histogram(whitepic.flat, bins = 40)\n",
    "    # mean = np.mean(whitepic)\n",
    "    antimode = skimage.filters.threshold_otsu(whitepic)\n",
    "    sigma = np.std(whitepic)\n",
    "    stepback = 0.5\n",
    "    split = np.searchsorted(edges, antimode, side='right')\n",
    "    maxd = split + np.argmax(density[split:])\n",
    "    threshold = edges[maxd] - threshold_stepback*sigma\n",
    "    maskpic = whitepic > threshold\n",
    "    \n",
    "    # The largest connected region will be selected at the table.\n",
    "    # In order to disconnect nearby bright background region, Canny edges computed on\n",
    "    # the hue channel (hue is chosen because we already know there wasn't enough distance\n",
    "    # in brightness).\n",
    "    huepic = hsvpic[:,:,0]\n",
    "    cannyhue = skimage.feature.canny(huepic, sigma=cannysigma)\n",
    "    # satpic = hsvpic[:,:,1]\n",
    "    # cannysat = skimage.feature.canny(satpic, sigma=cannysigma)\n",
    "    huesatmask = maskpic & ~cannyhue # & ~cannysat\n",
    "    labeledpic = skimage.measure.label(huesatmask, connectivity=1)\n",
    "    largestmask = labeledpic == np.argmax(np.bincount(labeledpic.flat)[1:])+1\n",
    "    \n",
    "    # A closure is computed on the mask to clean out speckles and dirt. \n",
    "    disk = skimage.morphology.disk(closure)\n",
    "    return skimage.morphology.binary_closing(largestmask, selem=disk)"
   ]
  },
  {
   "cell_type": "code",
   "execution_count": 8,
   "metadata": {},
   "outputs": [
    {
     "data": {
      "image/png": "[encoded data removed]",
      "text/plain": [
       "<Figure size 432x288 with 1 Axes>"
      ]
     },
     "metadata": {
      "needs_background": "light"
     },
     "output_type": "display_data"
    }
   ],
   "source": [
    "pic = plt.imread(\"pics/5.JPG\")\n",
    "tablemask = find_table(pic, closure=16)\n",
    "# plt.imshow(tablemask)\n",
    "gray=rgb2gray(pic)\n",
    "p2, p98 = np.percentile(gray, (2, 98))\n",
    "gray = exposure.rescale_intensity(gray, in_range=(p2, p98))\n",
    "edge=skimage.feature.canny(gray, mask=tablemask, sigma=4)\n",
    "# Run random walker algorithm\n",
    "markers = np.zeros(gray.shape, dtype=np.uint)\n",
    "markers[gray > 0.50] = 1\n",
    "markers[gray < 0.80] = 2\n",
    "\n",
    "labels = random_walker(gray, markers, beta=10, mode='bf')\n",
    "labels[tablemask==False]=0\n",
    "plt.imshow(labels)\n",
    "plt.imsave(\"labels.png\", labels)\n",
    "\n"
   ]
  },
  {
   "cell_type": "code",
   "execution_count": 103,
   "metadata": {},
   "outputs": [
    {
     "data": {
      "text/plain": [
       "array([[0, 0, 0, ..., 0, 0, 0],\n",
       "       [0, 0, 0, ..., 0, 0, 0],\n",
       "       [0, 0, 0, ..., 0, 0, 0],\n",
       "       ...,\n",
       "       [0, 0, 0, ..., 0, 0, 0],\n",
       "       [0, 0, 0, ..., 0, 0, 0],\n",
       "       [0, 0, 0, ..., 0, 0, 0]], dtype=uint64)"
      ]
     },
     "execution_count": 103,
     "metadata": {},
     "output_type": "execute_result"
    }
   ],
   "source": [
    "labels"
   ]
  },
  {
   "cell_type": "code",
   "execution_count": null,
   "metadata": {},
   "outputs": [],
   "source": []
  }
 ],
 "metadata": {
  "kernelspec": {
   "display_name": "Python 3",
   "language": "python",
   "name": "python3"
  },
  "language_info": {
   "codemirror_mode": {
    "name": "ipython",
    "version": 3
   },
   "file_extension": ".py",
   "mimetype": "text/x-python",
   "name": "python",
   "nbconvert_exporter": "python",
   "pygments_lexer": "ipython3",
   "version": "3.7.2"
  }
 },
 "nbformat": 4,
 "nbformat_minor": 2
}
