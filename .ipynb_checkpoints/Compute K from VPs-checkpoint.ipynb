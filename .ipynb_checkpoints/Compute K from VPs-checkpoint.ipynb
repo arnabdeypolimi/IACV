{
 "cells": [
  {
   "cell_type": "code",
   "execution_count": null,
   "metadata": {},
   "outputs": [],
   "source": [
    "import numpy as np"
   ]
  },
  {
   "cell_type": "markdown",
   "metadata": {},
   "source": [
    "`vv1` and `vv2` are to be given so that `vv1[i]` and `vv2[i]` were images of orthogonal VPs in the i-th picture. Coefficients are calculated in the notebook \"Compute linear system coefficients for omega\".\n",
    "\n",
    "Recall that $\\omega = (KK^T)^{-1} = K^{-T}K^{-1}$. Since the inverse of an upper triangular matrix is upper triangular, $K^{-T}$ is lower triangular, so the Cholesky decomposition of $\\omega$ will return $K^{-T}$, which will have to be inverted and transposed."
   ]
  },
  {
   "cell_type": "code",
   "execution_count": null,
   "metadata": {},
   "outputs": [],
   "source": [
    "def K_from_vps(vv1, vv2):\n",
    "    assert (len(vv1) == 4 and len(vv2) == 4), \"Length of vv1 and vv2 must be 4!\"\n",
    "    A = []\n",
    "    b = []\n",
    "    for i in range(len(vv1)):\n",
    "        A += [[ vv1[i][0]*vv2[i][0],\n",
    "                vv1[i][0]*vv2[i][2] + vv1[i][2]*vv2[i][0],\n",
    "                vv1[i][1]*vv2[i][2] + vv1[i][2]*vv2[i][1],\n",
    "                vv1[i][1]*vv2[i][1] ]]\n",
    "        b += [ -vv1[i][2]*vv2[i][2] ]\n",
    "    w = np.linalg.solve(A, b)\n",
    "    \n",
    "    W = np.array([[w[0],  0,   w[1]],\n",
    "                 [ 0,  w[3],  w[2]],\n",
    "                 [w[1], w[2],  1 ]])\n",
    "    K = np.linalg.inv(np.linalg.cholesky(np.array(W))).T\n",
    "    return K/K[2,2]"
   ]
  },
  {
   "cell_type": "markdown",
   "metadata": {},
   "source": [
    "**TODO:** Test this with ground truth data"
   ]
  },
  {
   "cell_type": "code",
   "execution_count": null,
   "metadata": {},
   "outputs": [],
   "source": [
    "with open(\"pics2/vps2.csv\") as f:\n",
    "    vps = np.array([l.strip(\"\\n\").split(\",\") for l in f.readlines()]).astype(\"float\")\n",
    "vv1, vv2 = vps[:,:3], vps[:,3:]\n",
    "# vv1[:, 0:2] = vv1[:, 0:2]/6000\n",
    "# vv2[:, 0:2] = vv2[:, 0:2]/6000\n",
    "K_from_vps(vv1, vv2)"
   ]
  },
  {
   "cell_type": "code",
   "execution_count": null,
   "metadata": {},
   "outputs": [],
   "source": []
  }
 ],
 "metadata": {
  "kernelspec": {
   "display_name": "Python 3",
   "language": "python",
   "name": "python3"
  },
  "language_info": {
   "codemirror_mode": {
    "name": "ipython",
    "version": 3
   },
   "file_extension": ".py",
   "mimetype": "text/x-python",
   "name": "python",
   "nbconvert_exporter": "python",
   "pygments_lexer": "ipython3",
   "version": "3.7.2"
  }
 },
 "nbformat": 4,
 "nbformat_minor": 2
}
