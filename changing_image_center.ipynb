{
 "cells": [
  {
   "cell_type": "code",
   "execution_count": 66,
   "metadata": {},
   "outputs": [],
   "source": [
    "import numpy as np"
   ]
  },
  {
   "cell_type": "markdown",
   "metadata": {},
   "source": [
    "this function takes each points and return the quadrant number"
   ]
  },
  {
   "cell_type": "code",
   "execution_count": 67,
   "metadata": {},
   "outputs": [],
   "source": [
    "def quadrant(x, y): \n",
    "    if (x > 0 and y > 0): \n",
    "        return 1\n",
    "    #print (\"lies in First quadrant\")\n",
    "\n",
    "    elif (x < 0 and y > 0): \n",
    "        return 2\n",
    "    #\t\tprint (\"lies in Second quadrant\") \n",
    "\n",
    "    elif (x < 0 and y < 0): \n",
    "        return 3\n",
    "    #\t\tprint (\"lies in Third quadrant\") \n",
    "\n",
    "    elif (x > 0 and y < 0):\n",
    "        return 4\n",
    "    #print (\"lies in Fourth quadrant\") \n",
    "\t\t\n",
    "    elif (x == 0 and y > 0):\n",
    "        return 1\n",
    "\t\t#print (\"lies at positive y axis\") \n",
    "\t\n",
    "    elif (x == 0 and y < 0):\n",
    "        return 4\n",
    "\t\t#print (\"lies at negative y axis\") \n",
    "\t\n",
    "    elif (y == 0 and x < 0):\n",
    "        return 2\n",
    "\t\t#print (\"lies at negative x axis\") \n",
    "\t\n",
    "    elif (y == 0 and x > 0): \n",
    "        return 1\n",
    "\t\t#print (\"lies at positive x axis\") \n",
    "\t\n",
    "    else: \n",
    "        return 1\n",
    "\t\t#print (\"lies at origin\") \n"
   ]
  },
  {
   "cell_type": "markdown",
   "metadata": {},
   "source": [
    "Line function create a line from two points \n",
    "intersection function calculate intersection of two lines "
   ]
  },
  {
   "cell_type": "code",
   "execution_count": 68,
   "metadata": {},
   "outputs": [],
   "source": [
    "def line(p1, p2):\n",
    "    A = (p1[1] - p2[1])\n",
    "    B = (p2[0] - p1[0])\n",
    "    C = (p1[0]*p2[1] - p2[0]*p1[1])\n",
    "    return A, B, -C\n",
    "\n",
    "def intersection(L1, L2):\n",
    "    D  = L1[0] * L2[1] - L1[1] * L2[0]\n",
    "    Dx = L1[2] * L2[1] - L1[1] * L2[2]\n",
    "    Dy = L1[0] * L2[2] - L1[2] * L2[0]\n",
    "    if D != 0:\n",
    "        x = Dx / D\n",
    "        y = Dy / D\n",
    "        return [x,y]\n",
    "    else:\n",
    "        return False"
   ]
  },
  {
   "cell_type": "markdown",
   "metadata": {},
   "source": [
    "Open the file containing corner points of the table and store the values in the P1"
   ]
  },
  {
   "cell_type": "code",
   "execution_count": 69,
   "metadata": {},
   "outputs": [],
   "source": [
    "with open(\"pics2/intersections.csv\") as f:\n",
    "    p1 = np.array([l.strip(\"\\n\").split(\",\") for l in f.readlines()]).astype(\"float\")"
   ]
  },
  {
   "cell_type": "markdown",
   "metadata": {},
   "source": [
    "Create two lines from the opposite points or the diagonals->\n",
    "R=intersection of the diagonals->\n",
    "shift the origin and make the R center of the image-> \n",
    "calulate new coordinate of the corners according to new origin->\n",
    "rearrange the corners according to the quadrant"
   ]
  },
  {
   "cell_type": "code",
   "execution_count": 70,
   "metadata": {},
   "outputs": [],
   "source": [
    "L1 = line([p1[0][0],p1[1][0]],[p1[0][3],p1[1][3]])\n",
    "L2 = line([p1[0][2],p1[1][2]],[p1[0][1],p1[1][1]])\n",
    "\n",
    "R = intersection(L1, L2)\n",
    "q=[0,0,0,0]\n",
    "if R:\n",
    "    for i in range(0,4):\n",
    "        p2=[p1[0][i]-R[0],p1[1][i]-R[1]]\n",
    "        if quadrant(p2[0],p2[1])==1:\n",
    "            q[0]=p2\n",
    "        if quadrant(p2[0],p2[1])==2:\n",
    "            q[1]=p2\n",
    "        if quadrant(p2[0],p2[1])==3:\n",
    "            q[2]=p2\n",
    "        if quadrant(p2[0],p2[1])==4:\n",
    "            q[3]=p2\n",
    "else:\n",
    "    print(\"No single intersection point detected\")"
   ]
  },
  {
   "cell_type": "code",
   "execution_count": 71,
   "metadata": {},
   "outputs": [
    {
     "data": {
      "text/plain": [
       "((381.8585083198459, 46.98901879550232),\n",
       " [627.2909615901541, 405.3837168844977],\n",
       " [1009.14946991, 452.37273568])"
      ]
     },
     "execution_count": 71,
     "metadata": {},
     "output_type": "execute_result"
    }
   ],
   "source": [
    "p2=p1[0][2]-R[0],p1[1][2]-R[1]\n",
    "p2,R,[p1[0][2],p1[1][2]]"
   ]
  },
  {
   "cell_type": "code",
   "execution_count": 72,
   "metadata": {},
   "outputs": [
    {
     "data": {
      "text/plain": [
       "1"
      ]
     },
     "execution_count": 72,
     "metadata": {},
     "output_type": "execute_result"
    }
   ],
   "source": [
    "quadrant(p2[0],p2[1])"
   ]
  },
  {
   "cell_type": "code",
   "execution_count": 65,
   "metadata": {},
   "outputs": [
    {
     "data": {
      "text/plain": [
       "array([[ 649.78615586, 2061.01624639,  596.40326689, 1996.13609053],\n",
       "       [1022.18664828,  477.14814312,  905.78627076,  393.23178221]])"
      ]
     },
     "execution_count": 65,
     "metadata": {},
     "output_type": "execute_result"
    }
   ],
   "source": [
    "p1"
   ]
  },
  {
   "cell_type": "code",
   "execution_count": 73,
   "metadata": {},
   "outputs": [
    {
     "data": {
      "text/plain": [
       "[[381.8585083198459, 46.98901879550232],\n",
       " [-211.87947037015408, 338.4399451055023],\n",
       " [-389.04850319015407, -47.87377269449769],\n",
       " [154.60079259984593, -246.9473973544977]]"
      ]
     },
     "execution_count": 73,
     "metadata": {},
     "output_type": "execute_result"
    }
   ],
   "source": [
    "q\n"
   ]
  },
  {
   "cell_type": "code",
   "execution_count": null,
   "metadata": {},
   "outputs": [],
   "source": []
  }
 ],
 "metadata": {
  "kernelspec": {
   "display_name": "Python 3",
   "language": "python",
   "name": "python3"
  },
  "language_info": {
   "codemirror_mode": {
    "name": "ipython",
    "version": 3
   },
   "file_extension": ".py",
   "mimetype": "text/x-python",
   "name": "python",
   "nbconvert_exporter": "python",
   "pygments_lexer": "ipython3",
   "version": "3.7.1"
  }
 },
 "nbformat": 4,
 "nbformat_minor": 2
}
